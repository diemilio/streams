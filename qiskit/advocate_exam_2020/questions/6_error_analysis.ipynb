{
 "cells": [
  {
   "cell_type": "code",
   "execution_count": 1,
   "metadata": {},
   "outputs": [],
   "source": [
    "import numpy as np\n",
    "import matplotlib.pyplot as plt\n",
    "\n",
    "from qiskit import QuantumRegister, QuantumCircuit, Aer, execute\n",
    "from qiskit.compiler import transpile\n",
    "from qiskit.providers.aer import noise\n",
    "from qiskit.providers.aer.noise import NoiseModel\n",
    "import qiskit.ignis.verification.quantum_volume as qv\n",
    "from qiskit.ignis.mitigation.measurement import (complete_meas_cal, tensored_meas_cal,\n",
    "                                                 CompleteMeasFitter, TensoredMeasFitter)\n",
    "\n",
    "S_simulator = Aer.get_backend('statevector_simulator')\n",
    "M_simulator = Aer.get_backend('qasm_simulator')"
   ]
  },
  {
   "cell_type": "markdown",
   "metadata": {},
   "source": [
    "# 6. Quantum System Error Analysis\n",
    "\n",
    "---\n",
    "## Question 6.1\n",
    "\n",
    "**The image below shows the calibration matrix for two qubits. What kind of noise caused this?**\n",
    "\n",
    "**Remember that a short decay time means more of the noise can be expected to have happened.\n",
    "Also note that in Qiskit qubit ordering is `q1q0`, e.g. $|01 \\rangle$ means `q1` is $|0 \\rangle$ and `q0` is $|1 \\rangle$.**\n",
    "\n",
    "<img src=\"..\\questions\\error_analysis_images\\calib.png\" align=\"left\" width=\"300\"/>"
   ]
  },
  {
   "cell_type": "markdown",
   "metadata": {},
   "source": [
    "**1)** Qubits in state $| 1 \\rangle $ decay down to $| 0 \\rangle $ before measurement. The decay times for both qubits are equal.\n",
    "\n",
    "**2)** Qubits in state $| 0 \\rangle $ decay down to $| 1 \\rangle $ before measurement. The decay time for `q0` is shorter than that for `q1`.\n",
    "\n",
    "**3)** Qubits in state $| 1 \\rangle $ decay down to $| 0 \\rangle $ before measurement. The decay time for `q0` is longer than that for `q1`.\n",
    "\n",
    "**4)** Qubits in state $| 0 \\rangle $ decay down to $| 1 \\rangle $ before measurement. The decay time for `q0` is longer than that for `q1`.\n",
    "\n",
    "**5)** Qubits in state $| 1 \\rangle $ decay down to $| 0 \\rangle $ before measurement. The decay time for `q0` is shorter than that for `q1`."
   ]
  },
  {
   "cell_type": "markdown",
   "metadata": {},
   "source": [
    "### Solution to Q6.1:\n",
    "\n",
    "From the calibration matrix above, we can clearly see that, for the prepared state $|00 \\rangle$, we measure the same state $|00 \\rangle$ with probability 1. This means that it is very likely that we are not seeing qubits in state $|0 \\rangle $ \"decay\" to stay $|1 \\rangle $ (this will actually correspond to an excitation). This means we can rule out **options 2, 3**.\n",
    "\n",
    "Next, we can see that when we prepare state $|01 \\rangle$, we measure the state $|00 \\rangle$ with probability of about 0.3. In contrast, when we prepare state $|10 \\rangle$, we measure the state $|00 \\rangle$, but with much lower probability (somewhere around 0.1). This means that `q0` has a shorter decay time than `q1`."
   ]
  },
  {
   "cell_type": "markdown",
   "metadata": {},
   "source": [
    "### Answer to Q6.1:\n",
    "\n",
    "**5)** Qubits in state $| 1 \\rangle $ decay down to $| 0 \\rangle $ before measurement. The decay time for `q0` is shorter than that for `q1`.\n",
    "\n",
    "---\n",
    "## Question 6.2\n",
    "\n",
    "**The noise that caused the calibration matrix in the previous question depends on an array of $T_1$ times, where the element `T1[j]` is the decay time of the qubit `qr[j]` during measurement. Once this has been defined, the noise is simulated with**\n",
    "\n",
    "```\n",
    "T2 = [1,1] # arbitrarily chosen T2 times\n",
    "time_measure = 10 # arbitrarily chosen measurement time\n",
    "noise_thermal = NoiseModel()\n",
    "for j in range(2):\n",
    "    noise_thermal.add_quantum_error(thermal_relaxation_error(T1[j], T2[j], time_measure) , \"measure\", [j])\n",
    "```\n",
    "\n",
    "**Which $T_1$ times create a calibration matrix closest to the one shown above?**\n",
    "\n",
    "**1)** `[100,30]`\n",
    "\n",
    "**2)** `[50,3]`\n",
    "\n",
    "**3)** `[3,10]`\n",
    "\n",
    "**4)** `[30,100]`\n",
    "\n",
    "**5)** `[1,1000]`\n",
    "\n",
    "### Solution for Q6.2:\n",
    "\n",
    "From question 6.1, we know that the value of the first item in the T1 array should be smaller than the second one. This corresponds to **options 3, 4, 5**. **Option 5** seems disproportionate in terms of decay times, making it an unlikely option, but the ratios for **options 3, 4** are the same, so it is difficult to tell which one is correct. For this reason, we are actually going to have to run the code to generate this calibration matrix.\n",
    "\n",
    "First, we create the noiseless calibration circuit. This should generate the identity matrix:"
   ]
  },
  {
   "cell_type": "code",
   "execution_count": 2,
   "metadata": {},
   "outputs": [
    {
     "name": "stdout",
     "output_type": "stream",
     "text": [
      "[[1. 0. 0. 0.]\n",
      " [0. 1. 0. 0.]\n",
      " [0. 0. 1. 0.]\n",
      " [0. 0. 0. 1.]]\n"
     ]
    }
   ],
   "source": [
    "qr = QuantumRegister(2)\n",
    "qubit_list = [0,1]\n",
    "meas_calibs, state_labels = complete_meas_cal(qubit_list=qubit_list, qr=qr, circlabel='mcal')\n",
    "\n",
    "job = execute(meas_calibs, backend=M_simulator, shots=1024)\n",
    "cal_results = job.result()\n",
    "\n",
    "meas_fitter = CompleteMeasFitter(cal_results, state_labels, circlabel='mcal')\n",
    "print(meas_fitter.cal_matrix)"
   ]
  },
  {
   "cell_type": "markdown",
   "metadata": {},
   "source": [
    "Next, we generate the noise model using the code defined by the problem in hand. We will select **option 4** as the input to T1 as it seems to be the most reasonable selection (if this doesn't give us the right calibration map, we can then execute the same code for **option 3**):"
   ]
  },
  {
   "cell_type": "code",
   "execution_count": 3,
   "metadata": {},
   "outputs": [],
   "source": [
    "# Code snipet from the problem statement\n",
    "# we are only adding the T1 array\n",
    "\n",
    "noise_thermal = noise.NoiseModel()\n",
    "\n",
    "T1 = [30, 100]     # Option 4 from the available answers\n",
    "T2 = [1,1]         # arbitrarily chosen T2 times\n",
    "time_measure = 10  # arbitrarily chosen measurement time\n",
    "\n",
    "for j in range(2):\n",
    "    noise_thermal.add_quantum_error(noise.thermal_relaxation_error(T1[j], T2[j], time_measure) , \"measure\", [j])"
   ]
  },
  {
   "cell_type": "markdown",
   "metadata": {},
   "source": [
    "Now we execute the calibration circuits, and extract the calibration matrix with the added noise model"
   ]
  },
  {
   "cell_type": "code",
   "execution_count": 4,
   "metadata": {},
   "outputs": [
    {
     "name": "stdout",
     "output_type": "stream",
     "text": [
      "[[1.         0.28417969 0.07421875 0.03222656]\n",
      " [0.         0.71582031 0.         0.07617188]\n",
      " [0.         0.         0.92578125 0.25      ]\n",
      " [0.         0.         0.         0.64160156]]\n"
     ]
    }
   ],
   "source": [
    "backend = Aer.get_backend('qasm_simulator')\n",
    "job = execute(meas_calibs, backend=backend, shots=1024, noise_model=noise_thermal)\n",
    "cal_results = job.result()\n",
    "\n",
    "meas_fitter = CompleteMeasFitter(cal_results, state_labels, qubit_list=qubit_list, circlabel='mcal')\n",
    "print(meas_fitter.cal_matrix)"
   ]
  },
  {
   "cell_type": "markdown",
   "metadata": {},
   "source": [
    "Now, we can plot the resulting calibration matrix:"
   ]
  },
  {
   "cell_type": "code",
   "execution_count": 5,
   "metadata": {},
   "outputs": [
    {
     "data": {
      "image/png": "[encoded data removed]",
      "text/plain": [
       "<Figure size 432x288 with 2 Axes>"
      ]
     },
     "metadata": {
      "needs_background": "light"
     },
     "output_type": "display_data"
    }
   ],
   "source": [
    "meas_fitter.plot_calibration()"
   ]
  },
  {
   "cell_type": "markdown",
   "metadata": {},
   "source": [
    "### Answer for Q6.2:\n",
    "\n",
    "**4)** `[30,100]`"
   ]
  },
  {
   "cell_type": "markdown",
   "metadata": {},
   "source": [
    "---\n",
    "## Question 6.3\n",
    "\n",
    "**To calculate Quantum Volume, we test whether a certain condition is satisfied for random circuits applied to successivly larger sets of qubits. These can be made out of any qubits you have available. For example, the tutorial on quantum volume uses**\n",
    "           `qubit_lists = [[0,1,3],[0,1,3,5],[0,1,3,5,7],[0,1,3,5,7,10]]`\n",
    "   \n",
    "Let's extend the 2-qubit noise model from the previous question to 5 qubits.\n",
    "\n",
    "```\n",
    "n = 5\n",
    "T1 =  [ j*20 for j in range(1,n+1) ]\n",
    "T2 = [ 2*t1 for t1 in T1] # T2 times as large as they can be\n",
    "time_measure = 10 # arbitrarily chosen measurement time\n",
    "noise_thermal = NoiseModel()\n",
    "for j in range(n):\n",
    "    noise_thermal.add_quantum_error( thermal_relaxation_error(T1[j], T2[j], time_measure) , \"measure\", [j])\n",
    "\n",
    "```\n",
    "\n",
    "**Which of the following would be most sensible for calculating quantum volume, given the decay times on each qubit?**\n",
    "\n",
    "**1)**  `[[0,2,4],[0,2,3,4],[0,1,2,3,4]]`\n",
    "\n",
    "**2)**  `[[0,1,2],[0,1,2,3],[0,1,2,3,4]]`\n",
    "\n",
    "**3)**  `[[0,2,4],[0,1,2,4],[0,1,2,3,4]]`\n",
    "\n",
    "**4)**  `[[2,3,4],[1,2,3,4],[0,1,2,3,4]]`\n",
    "\n",
    "**5)**  None of the above"
   ]
  },
  {
   "cell_type": "markdown",
   "metadata": {},
   "source": [
    "### Solution for Q6.3:\n",
    "\n"
   ]
  },
  {
   "cell_type": "markdown",
   "metadata": {},
   "source": [
    "Since we are trying to find what is the maximum achievable quantum volume (QV) with the qubits we have available, we should pick the combination of qubits that have the longest decay times. From the code above, we see that the decay time for each qubit is longer as the qubit number increases:"
   ]
  },
  {
   "cell_type": "code",
   "execution_count": 6,
   "metadata": {},
   "outputs": [
    {
     "name": "stdout",
     "output_type": "stream",
     "text": [
      "[20, 40, 60, 80, 100]\n"
     ]
    }
   ],
   "source": [
    "n = 5\n",
    "T1 =  [ j*20 for j in range(1,n+1) ]\n",
    "print(T1)"
   ]
  },
  {
   "cell_type": "markdown",
   "metadata": {},
   "source": [
    "This means that a qubit list containing combinations with higher qubit numbers, will give us a much better chance of finding what the maximum QV we can get for the system. This suggests that **option 4** (which contains the unique combinations of higher qubit numbers: `[2,3,4]` and `[1,2,3,4]`) will be the best choice.\n",
    "\n",
    "Now, to be on the safe side, we can actually run the code to estimate the quantum volume for each possible combination, and make sure **option 4** is in fact the better one.\n",
    "\n",
    "See this [tutorial](https://qiskit.org/documentation/tutorials/noise/5_quantum_volume.html) for a clear explanation of how the code below works."
   ]
  },
  {
   "cell_type": "code",
   "execution_count": 7,
   "metadata": {},
   "outputs": [
    {
     "data": {
      "image/png": "[encoded data removed]",
      "text/plain": [
       "<Figure size 1934.83x264.88 with 1 Axes>"
      ]
     },
     "execution_count": 7,
     "metadata": {},
     "output_type": "execute_result"
    }
   ],
   "source": [
    "qubit_lists = [[2,3,4],[1,2,3,4],[0,1,2,3,4]] # qubit list (this is option 4 from the available answers)\n",
    "ntrials = 50\n",
    "\n",
    "qv_circs, qv_circs_nomeas = qv.qv_circuits(qubit_lists, ntrials)\n",
    "\n",
    "#pass the first trial of the nomeas through the transpiler to illustrate the circuit\n",
    "qv_circs_nomeas[0] = transpile(qv_circs_nomeas[0], basis_gates=['u3','cx'])\n",
    "\n",
    "# Draw sample circuit\n",
    "qv_circs_nomeas[0][0].draw('mpl', fold = 100)"
   ]
  },
  {
   "cell_type": "code",
   "execution_count": 8,
   "metadata": {},
   "outputs": [
    {
     "name": "stdout",
     "output_type": "stream",
     "text": [
      "Simulating trial 0\n",
      "Simulating trial 1\n",
      "Simulating trial 2\n",
      "Simulating trial 3\n",
      "Simulating trial 4\n",
      "Simulating trial 5\n",
      "Simulating trial 6\n",
      "Simulating trial 7\n",
      "Simulating trial 8\n",
      "Simulating trial 9\n",
      "Simulating trial 10\n",
      "Simulating trial 11\n",
      "Simulating trial 12\n",
      "Simulating trial 13\n",
      "Simulating trial 14\n",
      "Simulating trial 15\n",
      "Simulating trial 16\n",
      "Simulating trial 17\n",
      "Simulating trial 18\n",
      "Simulating trial 19\n",
      "Simulating trial 20\n",
      "Simulating trial 21\n",
      "Simulating trial 22\n",
      "Simulating trial 23\n",
      "Simulating trial 24\n",
      "Simulating trial 25\n",
      "Simulating trial 26\n",
      "Simulating trial 27\n",
      "Simulating trial 28\n",
      "Simulating trial 29\n",
      "Simulating trial 30\n",
      "Simulating trial 31\n",
      "Simulating trial 32\n",
      "Simulating trial 33\n",
      "Simulating trial 34\n",
      "Simulating trial 35\n",
      "Simulating trial 36\n",
      "Simulating trial 37\n",
      "Simulating trial 38\n",
      "Simulating trial 39\n",
      "Simulating trial 40\n",
      "Simulating trial 41\n",
      "Simulating trial 42\n",
      "Simulating trial 43\n",
      "Simulating trial 44\n",
      "Simulating trial 45\n",
      "Simulating trial 46\n",
      "Simulating trial 47\n",
      "Simulating trial 48\n",
      "Simulating trial 49\n"
     ]
    }
   ],
   "source": [
    "# Simulate ideal model\n",
    "ideal_results = []\n",
    "for trial in range(ntrials):\n",
    "    print('Simulating trial %d'%trial)\n",
    "    ideal_results.append(execute(qv_circs_nomeas[trial], backend=S_simulator, optimization_level=0).result())"
   ]
  },
  {
   "cell_type": "code",
   "execution_count": 10,
   "metadata": {},
   "outputs": [],
   "source": [
    "# Load ideal results into quantum volume fitter\n",
    "qv_fitter = qv.QVFitter(qubit_lists=qubit_lists)\n",
    "qv_fitter.add_statevectors(ideal_results)\n",
    "\n",
    "# Generate a noise model for the 5 qubits (this is taken from the TEST Question!!)\n",
    "noise_thermal = noise.NoiseModel()\n",
    "\n",
    "n = 5\n",
    "T1 =  [ j*20 for j in range(1,n+1) ]\n",
    "T2 = [ 2*t1 for t1 in T1]             # T2 times as large as they can be\n",
    "time_measure = 10                     # arbitrarily chosen measurement time\n",
    "\n",
    "for j in range(n):\n",
    "    noise_thermal.add_quantum_error(noise.thermal_relaxation_error(T1[j], T2[j], time_measure) , \"measure\", [j])"
   ]
  },
  {
   "cell_type": "code",
   "execution_count": 11,
   "metadata": {},
   "outputs": [
    {
     "name": "stdout",
     "output_type": "stream",
     "text": [
      "Running trial 0\n",
      "Running trial 1\n",
      "Running trial 2\n",
      "Running trial 3\n",
      "Running trial 4\n",
      "Running trial 5\n",
      "Running trial 6\n",
      "Running trial 7\n",
      "Running trial 8\n",
      "Running trial 9\n",
      "Running trial 10\n",
      "Running trial 11\n",
      "Running trial 12\n",
      "Running trial 13\n",
      "Running trial 14\n",
      "Running trial 15\n",
      "Running trial 16\n",
      "Running trial 17\n",
      "Running trial 18\n",
      "Running trial 19\n",
      "Running trial 20\n",
      "Running trial 21\n",
      "Running trial 22\n",
      "Running trial 23\n",
      "Running trial 24\n",
      "Running trial 25\n",
      "Running trial 26\n",
      "Running trial 27\n",
      "Running trial 28\n",
      "Running trial 29\n",
      "Running trial 30\n",
      "Running trial 31\n",
      "Running trial 32\n",
      "Running trial 33\n",
      "Running trial 34\n",
      "Running trial 35\n",
      "Running trial 36\n",
      "Running trial 37\n",
      "Running trial 38\n",
      "Running trial 39\n",
      "Running trial 40\n",
      "Running trial 41\n",
      "Running trial 42\n",
      "Running trial 43\n",
      "Running trial 44\n",
      "Running trial 45\n",
      "Running trial 46\n",
      "Running trial 47\n",
      "Running trial 48\n",
      "Running trial 49\n"
     ]
    }
   ],
   "source": [
    "# Execute the noisy QV sequence in qsam_simulator\n",
    "basis_gates = ['u3','cx'] # use U,CX for now\n",
    "exp_results = []\n",
    "for trial in range(ntrials):\n",
    "    print('Running trial %d'%trial)\n",
    "    exp_results.append(execute(qv_circs[trial], basis_gates=basis_gates, \n",
    "                                      backend=M_simulator, noise_model=noise_thermal, \n",
    "                                      backend_options={'max_parallel_experiments': 0}).result())"
   ]
  },
  {
   "cell_type": "code",
   "execution_count": 12,
   "metadata": {},
   "outputs": [
    {
     "data": {
      "image/png": "[encoded data removed]",
      "text/plain": [
       "<Figure size 720x432 with 1 Axes>"
      ]
     },
     "metadata": {
      "needs_background": "light"
     },
     "output_type": "display_data"
    }
   ],
   "source": [
    "# Load the experimental data into the fitter and plot results\n",
    "qv_fitter.add_data(exp_results)\n",
    "\n",
    "plt.figure(figsize=(10, 6))\n",
    "ax = plt.gca()\n",
    "\n",
    "# Plot the essence by calling plot_rb_data\n",
    "qv_fitter.plot_qv_data(ax=ax, show_plt=False)\n",
    "\n",
    "# Add title and label\n",
    "ax.set_title('Quantum Volume for up to %d Qubits \\n and %d Trials'%(len(qubit_lists[-1]), ntrials), fontsize=18)\n",
    "\n",
    "plt.show()"
   ]
  },
  {
   "cell_type": "code",
   "execution_count": 13,
   "metadata": {},
   "outputs": [
    {
     "name": "stdout",
     "output_type": "stream",
     "text": [
      "Width/depth 3 greater than 2/3 (0.787637) with confidence 0.981759 (successful). Quantum volume 8\n",
      "Width/depth 4 greater than 2/3 (0.759492) with confidence 0.937703 (unsuccessful).\n",
      "Width/depth 5 greater than 2/3 (0.734824) with confidence 0.862538 (unsuccessful).\n"
     ]
    }
   ],
   "source": [
    "# Identify which of the combination of qubits provided meets criteria, and what is the QV if criteria is met\n",
    "\n",
    "qv_success_list = qv_fitter.qv_success()\n",
    "qv_list = qv_fitter.ydata\n",
    "QV = 1\n",
    "for qidx, qubit_list in enumerate(qubit_lists):\n",
    "    if qv_list[0][qidx]>2/3:\n",
    "        if qv_success_list[qidx][0]:\n",
    "            print(\"Width/depth %d greater than 2/3 (%f) with confidence %f (successful). Quantum volume %d\"%\n",
    "                  (len(qubit_list),qv_list[0][qidx],qv_success_list[qidx][1],qv_fitter.quantum_volume()[qidx]))\n",
    "            QV = qv_fitter.quantum_volume()[qidx]\n",
    "        else:\n",
    "            print(\"Width/depth %d greater than 2/3 (%f) with confidence %f (unsuccessful).\"%\n",
    "                  (len(qubit_list),qv_list[0][qidx],qv_success_list[qidx][1]))\n",
    "    else:\n",
    "        print(\"Width/depth %d less than 2/3 (unsuccessful).\"%len(qubit_list))"
   ]
  },
  {
   "cell_type": "code",
   "execution_count": 14,
   "metadata": {},
   "outputs": [
    {
     "name": "stdout",
     "output_type": "stream",
     "text": [
      "The Quantum Volume is: 8\n"
     ]
    }
   ],
   "source": [
    "print (\"The Quantum Volume is:\", QV)"
   ]
  },
  {
   "cell_type": "markdown",
   "metadata": {},
   "source": [
    "### Answer for Q6.3:\n",
    "\n",
    "**4)** `[[2,3,4],[1,2,3,4],[0,1,2,3,4]]`"
   ]
  }
 ],
 "metadata": {
  "kernelspec": {
   "display_name": "Python 3",
   "language": "python",
   "name": "python3"
  },
  "language_info": {
   "codemirror_mode": {
    "name": "ipython",
    "version": 3
   },
   "file_extension": ".py",
   "mimetype": "text/x-python",
   "name": "python",
   "nbconvert_exporter": "python",
   "pygments_lexer": "ipython3",
   "version": "3.7.6"
  }
 },
 "nbformat": 4,
 "nbformat_minor": 4
}
