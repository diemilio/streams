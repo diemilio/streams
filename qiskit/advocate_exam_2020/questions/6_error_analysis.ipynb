{
 "cells": [
  {
   "cell_type": "markdown",
   "metadata": {},
   "source": [
    "# 6. Quantum System Error Analysis\n",
    "\n",
    "---\n",
    "## Question 6.1\n",
    "\n",
    "**The image below shows the calibration matrix for two qubits. What kind of noise caused this?**\n",
    "\n",
    "**Remember that a short decay time means more of the noise can be expected to have happened.\n",
    "Also note that in Qiskit qubit ordering is `q1q0`, e.g. $|01 \\rangle$ means `q1` is $|0 \\rangle$ and `q0` is $|1 \\rangle$.**\n",
    "\n",
    "<img src=\"..\\images\\error_analysis_images\\calib.png\" align=\"left\" width=\"300\"/>"
   ]
  },
  {
   "cell_type": "markdown",
   "metadata": {},
   "source": [
    "**1)** Qubits in state $| 1 \\rangle $ decay down to $| 0 \\rangle $ before measurement. The decay times for both qubits are equal.\n",
    "\n",
    "**2)** Qubits in state $| 0 \\rangle $ decay down to $| 1 \\rangle $ before measurement. The decay time for `q0` is shorter than that for `q1`.\n",
    "\n",
    "**3)** Qubits in state $| 1 \\rangle $ decay down to $| 0 \\rangle $ before measurement. The decay time for `q0` is longer than that for `q1`.\n",
    "\n",
    "**4)** Qubits in state $| 0 \\rangle $ decay down to $| 1 \\rangle $ before measurement. The decay time for `q0` is longer than that for `q1`.\n",
    "\n",
    "**5)** Qubits in state $| 1 \\rangle $ decay down to $| 0 \\rangle $ before measurement. The decay time for `q0` is shorter than that for `q1`."
   ]
  },
  {
   "cell_type": "markdown",
   "metadata": {},
   "source": [
    "---\n",
    "## Question 6.2\n",
    "\n",
    "**The noise that caused the calibration matrix in the previous question depends on an array of $T_1$ times, where the element `T1[j]` is the decay time of the qubit `qr[j]` during measurement. Once this has been defined, the noise is simulated with**\n",
    "\n",
    "```\n",
    "T2 = [1,1] # arbitrarily chosen T2 times\n",
    "time_measure = 10 # arbitrarily chosen measurement time\n",
    "noise_thermal = NoiseModel()\n",
    "for j in range(2):\n",
    "    noise_thermal.add_quantum_error(thermal_relaxation_error(T1[j], T2[j], time_measure) , \"measure\", [j])\n",
    "```\n",
    "\n",
    "**Which $T_1$ times create a calibration matrix closest to the one shown above?**\n",
    "\n",
    "**1)** `[100,30]`\n",
    "\n",
    "**2)** `[50,3]`\n",
    "\n",
    "**3)** `[3,10]`\n",
    "\n",
    "**4)** `[30,100]`\n",
    "\n",
    "**5)** `[1,1000]`"
   ]
  },
  {
   "cell_type": "markdown",
   "metadata": {},
   "source": [
    "---\n",
    "## Question 6.3\n",
    "\n",
    "**To calculate Quantum Volume, we test whether a certain condition is satisfied for random circuits applied to successivly larger sets of qubits. These can be made out of any qubits you have available. For example, the tutorial on quantum volume uses**\n",
    "           `qubit_lists = [[0,1,3],[0,1,3,5],[0,1,3,5,7],[0,1,3,5,7,10]]`\n",
    "   \n",
    "Let's extend the 2-qubit noise model from the previous question to 5 qubits.\n",
    "\n",
    "```\n",
    "n = 5\n",
    "T1 =  [ j*20 for j in range(1,n+1) ]\n",
    "T2 = [ 2*t1 for t1 in T1] # T2 times as large as they can be\n",
    "time_measure = 10 # arbitrarily chosen measurement time\n",
    "noise_thermal = NoiseModel()\n",
    "for j in range(n):\n",
    "    noise_thermal.add_quantum_error( thermal_relaxation_error(T1[j], T2[j], time_measure) , \"measure\", [j])\n",
    "\n",
    "```\n",
    "\n",
    "**Which of the following would be most sensible for calculating quantum volume, given the decay times on each qubit?**\n",
    "\n",
    "**1)**  `[[0,2,4],[0,2,3,4],[0,1,2,3,4]]`\n",
    "\n",
    "**2)**  `[[0,1,2],[0,1,2,3],[0,1,2,3,4]]`\n",
    "\n",
    "**3)**  `[[0,2,4],[0,1,2,4],[0,1,2,3,4]]`\n",
    "\n",
    "**4)**  `[[2,3,4],[1,2,3,4],[0,1,2,3,4]]`\n",
    "\n",
    "**5)**  None of the above"
   ]
  }
 ],
 "metadata": {
  "kernelspec": {
   "display_name": "Python 3 (ipykernel)",
   "language": "python",
   "name": "python3"
  },
  "language_info": {
   "codemirror_mode": {
    "name": "ipython",
    "version": 3
   },
   "file_extension": ".py",
   "mimetype": "text/x-python",
   "name": "python",
   "nbconvert_exporter": "python",
   "pygments_lexer": "ipython3",
   "version": "3.8.5"
  }
 },
 "nbformat": 4,
 "nbformat_minor": 4
}
