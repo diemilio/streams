{
 "cells": [
  {
   "cell_type": "code",
   "execution_count": 1,
   "metadata": {},
   "outputs": [],
   "source": [
    "%matplotlib inline\n",
    "#%config InlineBackend.figure_format = 'svg'\n",
    "from qiskit import QuantumCircuit, execute, Aer\n",
    "from qiskit.visualization import plot_histogram\n",
    "import qiskit.circuit.library as qulib\n",
    "import qiskit.quantum_info as qi\n",
    "import numpy as np\n",
    "\n",
    "M_simulator = Aer.get_backend('qasm_simulator')\n",
    "S_simulator = Aer.get_backend('statevector_simulator')\n",
    "U_simulator = Aer.get_backend('unitary_simulator')"
   ]
  },
  {
   "cell_type": "markdown",
   "metadata": {},
   "source": [
    "# 5. High-Performance Simulators"
   ]
  },
  {
   "cell_type": "markdown",
   "metadata": {},
   "source": [
    "---\n",
    "## Question 5.1\n",
    "\n",
    "**What is the result of this circuit when run on the `StatevectorSimulator`?**\n",
    "\n",
    "<img src=\"..\\questions\\simulators_images\\q2.png\" align=\"left\"/>"
   ]
  },
  {
   "cell_type": "markdown",
   "metadata": {},
   "source": [
    "**1)**  `[0.35355339+0.j, 0.35355339+0.j, 0.35355339+0.j, 0.35355339+0.j,\n",
    " 0.35355339+0.j, 0.35355339+0.j, 0.35355339+0.j, 0.35355339+0.j]`\n",
    "\n",
    "**2)**  `[0.70710678+0.j, 0.70710678+0.j, 0.70710678+0.j, 0.70710678+0.j, \n",
    " 0.70710678+0.j, 0.70710678+0.j, 0.70710678+0.j, 0.70710678+0.j]`\n",
    "\n",
    "**3)**  `[0.+0.70710678j, 0.70710678+0.j, 0.+0.70710678j, 0.70710678+0.j, \n",
    " 0.+0.70710678j, 0.70710678+0.j, 0.+0.70710678j, 0.70710678+0.j]`\n",
    "\n",
    "**4)**  `[0.35355339+0.j, 0.+0.35355339j, 0.35355339+0.j, 0.+0.35355339j, \n",
    " 0.35355339+0.j, 0.+0.35355339j, 0.35355339+0.j, 0.+0.35355339j]`\n",
    "\n",
    "**5)** None of the above\n",
    "\n",
    "### Solution to Q5.1:\n",
    "\n",
    "Let's implement the circuit:"
   ]
  },
  {
   "cell_type": "code",
   "execution_count": 2,
   "metadata": {},
   "outputs": [
    {
     "data": {
      "image/png": "[encoded data removed]",
      "text/plain": [
       "<Figure size 238.392x204.68 with 1 Axes>"
      ]
     },
     "execution_count": 2,
     "metadata": {},
     "output_type": "execute_result"
    }
   ],
   "source": [
    "qc_hp1 = QuantumCircuit(3)\n",
    "qc_hp1.h([0,1,2])\n",
    "qc_hp1.draw('mpl')"
   ]
  },
  {
   "cell_type": "markdown",
   "metadata": {},
   "source": [
    "Now, let's execute the simulation using the `statevector_simulator` backend:"
   ]
  },
  {
   "cell_type": "code",
   "execution_count": 3,
   "metadata": {},
   "outputs": [
    {
     "name": "stdout",
     "output_type": "stream",
     "text": [
      "[0.35355339+0.j 0.35355339+0.j 0.35355339+0.j 0.35355339+0.j\n",
      " 0.35355339+0.j 0.35355339+0.j 0.35355339+0.j 0.35355339+0.j]\n"
     ]
    }
   ],
   "source": [
    "result_hp1 = execute(qc_hp1, backend = S_simulator).result()\n",
    "state_hp1 = result_hp1.get_statevector()\n",
    "print(state_hp1)"
   ]
  },
  {
   "cell_type": "markdown",
   "metadata": {},
   "source": [
    "### Answer to Q5.1: \n",
    "1) `[0.35355339+0.j 0.35355339+0.j 0.35355339+0.j 0.35355339+0.j\n",
    "    0.35355339+0.j 0.35355339+0.j 0.35355339+0.j 0.35355339+0.j]`"
   ]
  },
  {
   "cell_type": "markdown",
   "metadata": {},
   "source": [
    "---\n",
    "## Question 5.2\n",
    "\n",
    "**You can also use `Statevector` class in the `quantum_info` module to simulate circuits and obtain state vector.\n",
    "Given the following code, which option produces a different state vector from the rest?**\n",
    "\n",
    "```\n",
    "import qiskit.quantum_info as qi\n",
    "import numpy as np\n",
    "qc = QuantumCircuit(2)\n",
    "qc.h(0)\n",
    "qc.cx(0,1)\n",
    "```\n",
    "\n",
    "**1)** `qi.Statevector.from_instruction(qc)`\n",
    "\n",
    "**2)** `qi.Statevector(np.array([1, 0, 1, 0]) / np.sqrt(2))`\n",
    "\n",
    "**3)** `np.sqrt(0.5) * (qi.Statevector.from_label('00') + qi.Statevector.from_label('11'))`\n",
    "\n",
    "**4)** `qi.Statevector.from_label('00').evolve(qc)`\n",
    "\n",
    "**5)** None of the above\n",
    "\n",
    "### Solution to Q5.2:\n",
    "\n",
    "Let's first implement the circuit:"
   ]
  },
  {
   "cell_type": "code",
   "execution_count": 4,
   "metadata": {},
   "outputs": [
    {
     "data": {
      "image/png": "[encoded data removed]",
      "text/plain": [
       "<Figure size 298.592x144.48 with 1 Axes>"
      ]
     },
     "execution_count": 4,
     "metadata": {},
     "output_type": "execute_result"
    }
   ],
   "source": [
    "qc_hp2_1 = QuantumCircuit(2)\n",
    "qc_hp2_1.h(0)\n",
    "qc_hp2_1.cx(0,1)\n",
    "qc_hp2_1.draw('mpl')"
   ]
  },
  {
   "cell_type": "markdown",
   "metadata": {},
   "source": [
    "Now let's run all four given options to see which one differs from the others:"
   ]
  },
  {
   "cell_type": "code",
   "execution_count": 5,
   "metadata": {},
   "outputs": [
    {
     "name": "stdout",
     "output_type": "stream",
     "text": [
      "[0.70710678+0.j 0.        +0.j 0.        +0.j 0.70710678+0.j]\n"
     ]
    }
   ],
   "source": [
    "state_hp2_1 = qi.Statevector.from_instruction(qc_hp2_1)\n",
    "print(state_hp2_1.data)"
   ]
  },
  {
   "cell_type": "code",
   "execution_count": 6,
   "metadata": {},
   "outputs": [
    {
     "name": "stdout",
     "output_type": "stream",
     "text": [
      "[0.70710678+0.j 0.        +0.j 0.70710678+0.j 0.        +0.j]\n"
     ]
    }
   ],
   "source": [
    "state_hp2_2 = qi.Statevector(np.array([1, 0, 1, 0]) / np.sqrt(2))\n",
    "print(state_hp2_2.data)"
   ]
  },
  {
   "cell_type": "code",
   "execution_count": 7,
   "metadata": {},
   "outputs": [
    {
     "name": "stdout",
     "output_type": "stream",
     "text": [
      "[0.70710678+0.j 0.        +0.j 0.        +0.j 0.70710678+0.j]\n"
     ]
    }
   ],
   "source": [
    "state_hp2_3 = np.sqrt(0.5) * (qi.Statevector.from_label('00') + qi.Statevector.from_label('11'))\n",
    "print(state_hp2_3.data)"
   ]
  },
  {
   "cell_type": "code",
   "execution_count": 8,
   "metadata": {},
   "outputs": [
    {
     "name": "stdout",
     "output_type": "stream",
     "text": [
      "[0.70710678+0.j 0.        +0.j 0.        +0.j 0.70710678+0.j]\n"
     ]
    }
   ],
   "source": [
    "state_hp2_4 = qi.Statevector.from_label('00').evolve(qc_hp2_1)\n",
    "print(state_hp2_4.data)"
   ]
  },
  {
   "cell_type": "markdown",
   "metadata": {},
   "source": [
    "### Answer to Q5.2: \n",
    "\n",
    "**2)** `qi.Statevector(np.array([1, 0, 1, 0]) / np.sqrt(2))`"
   ]
  },
  {
   "cell_type": "markdown",
   "metadata": {},
   "source": [
    "---\n",
    "## Question 5.3\n",
    "\n",
    "**What is the result of this circuit when run on the `UnitarySimulator?`**\n",
    "\n",
    "<img src=\"..\\questions\\simulators_images\\q3.png\" align=\"left\"/>"
   ]
  },
  {
   "cell_type": "markdown",
   "metadata": {},
   "source": [
    "**1)** ```[[ 0.+0.j  0.+0.j  0.+0.j  1.+0.j]\n",
    "  [ 0.+0.j  0.+0.j -1.+0.j  0.+0.j]\n",
    "  [ 0.+0.j  1.+0.j  0.+0.j  0.+0.j]\n",
    "  [-1.+0.j  0.+0.j  0.+0.j  0.+0.j]]```\n",
    " \n",
    "**2)**  ```[[ 0.+0.j  1.+0.j  0.+0.j  0.+0.j]\n",
    "  [ 0.+0.j  0.+0.j -1.+0.j  0.+0.j]\n",
    "  [ 0.+0.j  0.+0.j  0.+0.j  1.+0.j]\n",
    "  [-1.+0.j  0.+0.j  0.+0.j  0.+0.j]]```\n",
    " \n",
    "**3)**  ```[[ 0.+0.j  0.+0.j -1.+0.j  0.+0.j]\n",
    "  [ 0.+0.j  1.+0.j  0.+0.j  0.+0.j]\n",
    "  [ 0.+0.j  0.+0.j  0.+0.j  1.+0.j]\n",
    "  [-1.+0.j  0.+0.j  0.+0.j  0.+0.j]]```\n",
    " \n",
    "**4)**  ```[[ 0.+0.j  0.+0.j -1.+0.j  0.+0.j]\n",
    "  [ 0.+0.j  1.+0.j  0.+0.j  0.+0.j]\n",
    "  [ 0.+0.j  0.+0.j  0.+0.j  1.+0.j]\n",
    "  [-1.+0.j  0.+0.j  0.+0.j  0.+0.j]]```\n",
    " \n",
    " **5)** None of the above"
   ]
  },
  {
   "cell_type": "markdown",
   "metadata": {},
   "source": [
    "### Solution to Q5.3:\n",
    "\n",
    "Let's implement the circuit, and then execute a simulation using the `unitary_simulator` backend:"
   ]
  },
  {
   "cell_type": "code",
   "execution_count": 9,
   "metadata": {},
   "outputs": [
    {
     "data": {
      "image/png": "[encoded data removed]",
      "text/plain": [
       "<Figure size 298.592x144.48 with 1 Axes>"
      ]
     },
     "execution_count": 9,
     "metadata": {},
     "output_type": "execute_result"
    }
   ],
   "source": [
    "qc_hp3 = QuantumCircuit(2)\n",
    "qc_hp3.x([0,1])\n",
    "qc_hp3.z(0)\n",
    "qc_hp3.draw('mpl')"
   ]
  },
  {
   "cell_type": "code",
   "execution_count": 10,
   "metadata": {},
   "outputs": [
    {
     "name": "stdout",
     "output_type": "stream",
     "text": [
      "[[ 0.+0.j  0.+0.j  0.+0.j  1.+0.j]\n",
      " [ 0.+0.j  0.+0.j -1.+0.j  0.+0.j]\n",
      " [ 0.+0.j  1.+0.j  0.+0.j  0.+0.j]\n",
      " [-1.+0.j  0.+0.j  0.+0.j  0.+0.j]]\n"
     ]
    }
   ],
   "source": [
    "result_hp3 = execute(qc_hp3, backend = U_simulator).result()\n",
    "unitary_hp3 = result_hp3.get_unitary()\n",
    "print(unitary_hp3)"
   ]
  },
  {
   "cell_type": "markdown",
   "metadata": {},
   "source": [
    "### Answer to Q5.3:\n",
    "\n",
    "**1)** `[[ 0.+0.j  0.+0.j  0.+0.j  1.+0.j]\n",
    "  [ 0.+0.j  0.+0.j -1.+0.j  0.+0.j]\n",
    "  [ 0.+0.j  1.+0.j  0.+0.j  0.+0.j]\n",
    "  [-1.+0.j  0.+0.j  0.+0.j  0.+0.j]]`"
   ]
  },
  {
   "cell_type": "markdown",
   "metadata": {},
   "source": [
    "---\n",
    "## Question 5.4\n",
    "\n",
    "**You can also use Operator class in the quantum_info module to simulate circuits and obtain unitary.\n",
    "Given the following code, which option produces a different unitary from the rest?**\n",
    "\n",
    "```\n",
    "import qiskit.quantum_info as qi\n",
    "qc = QuantumCircuit(2)\n",
    "qc.h(0)\n",
    "qc.cx(0,1)\n",
    "```\n",
    "\n",
    "**1)** `qi.Operator(qc)`\n",
    "\n",
    "**2)** `qi.Operator.from_label('II').compose(HGate(), [0]).compose(CXGate(), [0, 1])`\n",
    "\n",
    "**3)** `qi.Operator.from_label('HI') + qi.Operator.from_label('CX')`\n",
    "\n",
    "**4)** `qi.Operator.from_label('II').compose(qc)`\n",
    "\n",
    "**5)**  None of the above\n",
    "\n",
    "### Solution to Q5.4:\n",
    "\n",
    "From the Qiskit documentation for [Operator.from_label](https://qiskit.org/documentation/stubs/qiskit.quantum_info.Operator.from_label.html) we can see that the only valid labels correspond to those associated with single-qubit matrices. Since 'CX' would correspond to the label of a two-quibt matrix, we know that **option 3** will not produce a unitary.\n",
    "\n",
    "We can also just check each of the available options to check this:"
   ]
  },
  {
   "cell_type": "code",
   "execution_count": 11,
   "metadata": {},
   "outputs": [
    {
     "data": {
      "image/png": "[encoded data removed]",
      "text/plain": [
       "<Figure size 298.592x144.48 with 1 Axes>"
      ]
     },
     "execution_count": 11,
     "metadata": {},
     "output_type": "execute_result"
    }
   ],
   "source": [
    "qc_hp4 = QuantumCircuit(2)\n",
    "qc_hp4.h(0)\n",
    "qc_hp4.cx(0,1)\n",
    "qc_hp4.draw('mpl')"
   ]
  },
  {
   "cell_type": "code",
   "execution_count": 12,
   "metadata": {},
   "outputs": [
    {
     "name": "stdout",
     "output_type": "stream",
     "text": [
      "[[ 0.70710678+0.j  0.70710678+0.j  0.        +0.j  0.        +0.j]\n",
      " [ 0.        +0.j  0.        +0.j  0.70710678+0.j -0.70710678+0.j]\n",
      " [ 0.        +0.j  0.        +0.j  0.70710678+0.j  0.70710678+0.j]\n",
      " [ 0.70710678+0.j -0.70710678+0.j  0.        +0.j  0.        +0.j]]\n"
     ]
    }
   ],
   "source": [
    "unitary_hp4_1 = qi.Operator(qc_hp4)\n",
    "print(unitary_hp4_1.data)"
   ]
  },
  {
   "cell_type": "code",
   "execution_count": 13,
   "metadata": {},
   "outputs": [
    {
     "name": "stdout",
     "output_type": "stream",
     "text": [
      "[[ 0.70710678+0.j  0.70710678+0.j  0.        +0.j  0.        +0.j]\n",
      " [ 0.        +0.j  0.        +0.j  0.70710678+0.j -0.70710678+0.j]\n",
      " [ 0.        +0.j  0.        +0.j  0.70710678+0.j  0.70710678+0.j]\n",
      " [ 0.70710678+0.j -0.70710678+0.j  0.        +0.j  0.        +0.j]]\n"
     ]
    }
   ],
   "source": [
    "unitary_hp4_2 = qi.Operator.from_label('II').compose(qulib.HGate(), [0]).compose(qulib.CXGate(), [0, 1])\n",
    "print(unitary_hp4_2.data)"
   ]
  },
  {
   "cell_type": "code",
   "execution_count": 14,
   "metadata": {},
   "outputs": [
    {
     "ename": "QiskitError",
     "evalue": "'Label contains invalid characters.'",
     "output_type": "error",
     "traceback": [
      "\u001b[0;31m---------------------------------------------------------------------------\u001b[0m",
      "\u001b[0;31mQiskitError\u001b[0m                               Traceback (most recent call last)",
      "\u001b[0;32m<ipython-input-14-09c4f76cf11c>\u001b[0m in \u001b[0;36m<module>\u001b[0;34m\u001b[0m\n\u001b[1;32m      1\u001b[0m \u001b[0;31m# This will give an error for the reason mentioned above\u001b[0m\u001b[0;34m\u001b[0m\u001b[0;34m\u001b[0m\u001b[0;34m\u001b[0m\u001b[0m\n\u001b[0;32m----> 2\u001b[0;31m \u001b[0munitary_hp4_3\u001b[0m \u001b[0;34m=\u001b[0m \u001b[0mqi\u001b[0m\u001b[0;34m.\u001b[0m\u001b[0mOperator\u001b[0m\u001b[0;34m.\u001b[0m\u001b[0mfrom_label\u001b[0m\u001b[0;34m(\u001b[0m\u001b[0;34m'HI'\u001b[0m\u001b[0;34m)\u001b[0m \u001b[0;34m+\u001b[0m \u001b[0mqi\u001b[0m\u001b[0;34m.\u001b[0m\u001b[0mOperator\u001b[0m\u001b[0;34m.\u001b[0m\u001b[0mfrom_label\u001b[0m\u001b[0;34m(\u001b[0m\u001b[0;34m'CX'\u001b[0m\u001b[0;34m)\u001b[0m\u001b[0;34m\u001b[0m\u001b[0;34m\u001b[0m\u001b[0m\n\u001b[0m\u001b[1;32m      3\u001b[0m \u001b[0mprint\u001b[0m\u001b[0;34m(\u001b[0m\u001b[0munitary_hp4_3\u001b[0m\u001b[0;34m.\u001b[0m\u001b[0mdata\u001b[0m\u001b[0;34m)\u001b[0m\u001b[0;34m\u001b[0m\u001b[0;34m\u001b[0m\u001b[0m\n",
      "\u001b[0;32m~/opt/anaconda3/lib/python3.7/site-packages/qiskit/quantum_info/operators/operator.py\u001b[0m in \u001b[0;36mfrom_label\u001b[0;34m(cls, label)\u001b[0m\n\u001b[1;32m    176\u001b[0m         }\n\u001b[1;32m    177\u001b[0m         \u001b[0;32mif\u001b[0m \u001b[0mre\u001b[0m\u001b[0;34m.\u001b[0m\u001b[0mmatch\u001b[0m\u001b[0;34m(\u001b[0m\u001b[0;34mr'^[IXYZHST01rl\\-+]+$'\u001b[0m\u001b[0;34m,\u001b[0m \u001b[0mlabel\u001b[0m\u001b[0;34m)\u001b[0m \u001b[0;32mis\u001b[0m \u001b[0;32mNone\u001b[0m\u001b[0;34m:\u001b[0m\u001b[0;34m\u001b[0m\u001b[0;34m\u001b[0m\u001b[0m\n\u001b[0;32m--> 178\u001b[0;31m             \u001b[0;32mraise\u001b[0m \u001b[0mQiskitError\u001b[0m\u001b[0;34m(\u001b[0m\u001b[0;34m'Label contains invalid characters.'\u001b[0m\u001b[0;34m)\u001b[0m\u001b[0;34m\u001b[0m\u001b[0;34m\u001b[0m\u001b[0m\n\u001b[0m\u001b[1;32m    179\u001b[0m         \u001b[0;31m# Initialize an identity matrix and apply each gate\u001b[0m\u001b[0;34m\u001b[0m\u001b[0;34m\u001b[0m\u001b[0;34m\u001b[0m\u001b[0m\n\u001b[1;32m    180\u001b[0m         \u001b[0mnum_qubits\u001b[0m \u001b[0;34m=\u001b[0m \u001b[0mlen\u001b[0m\u001b[0;34m(\u001b[0m\u001b[0mlabel\u001b[0m\u001b[0;34m)\u001b[0m\u001b[0;34m\u001b[0m\u001b[0;34m\u001b[0m\u001b[0m\n",
      "\u001b[0;31mQiskitError\u001b[0m: 'Label contains invalid characters.'"
     ]
    }
   ],
   "source": [
    "# This will give an error for the reason mentioned above\n",
    "unitary_hp4_3 = qi.Operator.from_label('HI') + qi.Operator.from_label('CX')\n",
    "print(unitary_hp4_3.data)"
   ]
  },
  {
   "cell_type": "code",
   "execution_count": 15,
   "metadata": {},
   "outputs": [
    {
     "name": "stdout",
     "output_type": "stream",
     "text": [
      "[[ 0.70710678+0.j  0.70710678+0.j  0.        +0.j  0.        +0.j]\n",
      " [ 0.        +0.j  0.        +0.j  0.70710678+0.j -0.70710678+0.j]\n",
      " [ 0.        +0.j  0.        +0.j  0.70710678+0.j  0.70710678+0.j]\n",
      " [ 0.70710678+0.j -0.70710678+0.j  0.        +0.j  0.        +0.j]]\n"
     ]
    }
   ],
   "source": [
    "unitary_hp4_4 = qi.Operator.from_label('II').compose(qc_hp4)\n",
    "print(unitary_hp4_4.data)"
   ]
  },
  {
   "cell_type": "markdown",
   "metadata": {},
   "source": [
    "### Answer to Q5.4:\n",
    "\n",
    "3) `qi.Operator.from_label('HI') + qi.Operator.from_label('CX')`"
   ]
  },
  {
   "cell_type": "markdown",
   "metadata": {},
   "source": [
    "---\n",
    "## Question 5.5\n",
    "\n",
    "**Which of the following histograms could be the result of this circuit when run on `QasmSimulator`?**\n",
    "\n",
    "<img src=\"..\\questions\\simulators_images\\q1.png\" align=\"left\"/>"
   ]
  },
  {
   "cell_type": "markdown",
   "metadata": {},
   "source": [
    "**1)** <img src=\"..\\questions\\simulators_images\\1_w1.png\"/>\n",
    "\n",
    "**2)** <img src=\"..\\questions\\simulators_images\\1_w2.png\"/>\n",
    "\n",
    "**3)** <img src=\"..\\questions\\simulators_images\\1_w3.png\"/>\n",
    "\n",
    "**4)** <img src=\"..\\questions\\simulators_images\\1_w4.png\"/>\n",
    "\n",
    "**5)** None of the above"
   ]
  },
  {
   "cell_type": "markdown",
   "metadata": {},
   "source": [
    "### Solution to Q5.5:\n",
    "\n",
    "We can then implement this circuit, and execute the simulation using the `qasm_simulator` backend:"
   ]
  },
  {
   "cell_type": "code",
   "execution_count": 16,
   "metadata": {},
   "outputs": [
    {
     "data": {
      "image/png": "[encoded data removed]",
      "text/plain": [
       "<Figure size 599.592x264.88 with 1 Axes>"
      ]
     },
     "execution_count": 16,
     "metadata": {},
     "output_type": "execute_result"
    }
   ],
   "source": [
    "qc_hp5 = QuantumCircuit(3,3)\n",
    "qc_hp5.h([0,1])\n",
    "qc_hp5.cx([0,0],[1,2])\n",
    "qc_hp5.barrier()\n",
    "qc_hp5.measure([0,1,2],[0,1,2])\n",
    "qc_hp5.draw('mpl')"
   ]
  },
  {
   "cell_type": "code",
   "execution_count": 17,
   "metadata": {},
   "outputs": [
    {
     "data": {
      "image/png": "[encoded data removed]",
      "text/plain": [
       "<Figure size 504x360 with 1 Axes>"
      ]
     },
     "execution_count": 17,
     "metadata": {},
     "output_type": "execute_result"
    }
   ],
   "source": [
    "result_hp5 = execute(qc_hp5, backend = M_simulator, shots = 1024).result()\n",
    "counts_hp5 = result_hp5.get_counts()\n",
    "plot_histogram(counts_hp5)"
   ]
  },
  {
   "cell_type": "markdown",
   "metadata": {},
   "source": [
    "### Answer to Q5.5:\n",
    "\n",
    "**3)** Histogram shown above\n",
    "\n",
    "---\n",
    "## Question 5.6\n",
    "\n",
    "Which of these configuration options could result in the following result object/counts?\n",
    "```\n",
    "qc = QuantumCircuit(2)\n",
    "qc.h([0,1])\n",
    "qc.measure_all()\n",
    "     \n",
    "result = execute(*what goes in here?*).result()\n",
    "memory = result.get_memory(qc)\n",
    "print(memory)\n",
    "   \n",
    "> ['01', '10', '00', '11', '00', '10', '00', '01', '00', '11', '11', '11', '11',' 11',' 11']\n",
    "```\n",
    "\n",
    "**1)** `execute(qc, StatevectorSimulator(), shots=15, memory=True)`\n",
    "\n",
    "**2)** `execute(qc, QasmSimulator(), shots=10, memory=True)`\n",
    "\n",
    "**3)** `execute(qc, QasmSimulator(), shots=15, memory=True)`\n",
    "\n",
    "**4)** `execute(qc, QasmSimulator(), shots=15, memory=False)`\n",
    "\n",
    "**5)** None of the above\n",
    "\n",
    "### Solution to Q5.6:\n",
    "\n",
    "We can execute each of the different options, and see which one provides an output that resembles the list of results provided in the question:"
   ]
  },
  {
   "cell_type": "code",
   "execution_count": 18,
   "metadata": {},
   "outputs": [
    {
     "name": "stdout",
     "output_type": "stream",
     "text": [
      "['11']\n"
     ]
    }
   ],
   "source": [
    "qc_hp6 = QuantumCircuit(2)\n",
    "qc_hp6.h([0,1])\n",
    "qc_hp6.measure_all()\n",
    "     \n",
    "result_hp6_1 = execute(qc_hp6, backend = S_simulator, shots=15, memory=True).result()\n",
    "memory_hp6_1 = result_hp6_1.get_memory(qc_hp6)\n",
    "print(memory_hp6_1)"
   ]
  },
  {
   "cell_type": "code",
   "execution_count": 19,
   "metadata": {},
   "outputs": [
    {
     "name": "stdout",
     "output_type": "stream",
     "text": [
      "['11', '00', '10', '01', '00', '11', '00', '01', '10', '01']\n"
     ]
    }
   ],
   "source": [
    "result_hp6_2 = execute(qc_hp6, backend = M_simulator, shots=10, memory=True).result()\n",
    "memory_hp6_2 = result_hp6_2.get_memory(qc_hp6)\n",
    "print(memory_hp6_2)"
   ]
  },
  {
   "cell_type": "code",
   "execution_count": 20,
   "metadata": {},
   "outputs": [
    {
     "name": "stdout",
     "output_type": "stream",
     "text": [
      "['11', '01', '00', '00', '00', '00', '00', '00', '01', '11', '10', '10', '01', '11', '10']\n"
     ]
    }
   ],
   "source": [
    "result_hp6_3 = execute(qc_hp6, backend = M_simulator, shots=15, memory=True).result()\n",
    "memory_hp6_3 = result_hp6_3.get_memory(qc_hp6)\n",
    "print(memory_hp6_3)"
   ]
  },
  {
   "cell_type": "code",
   "execution_count": 21,
   "metadata": {},
   "outputs": [
    {
     "ename": "QiskitError",
     "evalue": "'No memory for experiment \"        ┌───┐ ░ ┌─┐   \\n   q_0: ┤ H ├─░─┤M├───\\n        ├───┤ ░ └╥┘┌─┐\\n   q_1: ┤ H ├─░──╫─┤M├\\n        └───┘ ░  ║ └╥┘\\nmeas_0: ═════════╩══╬═\\n                    ║ \\nmeas_1: ════════════╩═\\n                      \".'",
     "output_type": "error",
     "traceback": [
      "\u001b[0;31m---------------------------------------------------------------------------\u001b[0m",
      "\u001b[0;31mKeyError\u001b[0m                                  Traceback (most recent call last)",
      "\u001b[0;32m~/opt/anaconda3/lib/python3.7/site-packages/qiskit/result/result.py\u001b[0m in \u001b[0;36mget_memory\u001b[0;34m(self, experiment)\u001b[0m\n\u001b[1;32m    145\u001b[0m \u001b[0;34m\u001b[0m\u001b[0m\n\u001b[0;32m--> 146\u001b[0;31m             \u001b[0mmemory\u001b[0m \u001b[0;34m=\u001b[0m \u001b[0mself\u001b[0m\u001b[0;34m.\u001b[0m\u001b[0mdata\u001b[0m\u001b[0;34m(\u001b[0m\u001b[0mexperiment\u001b[0m\u001b[0;34m)\u001b[0m\u001b[0;34m[\u001b[0m\u001b[0;34m'memory'\u001b[0m\u001b[0;34m]\u001b[0m\u001b[0;34m\u001b[0m\u001b[0;34m\u001b[0m\u001b[0m\n\u001b[0m\u001b[1;32m    147\u001b[0m \u001b[0;34m\u001b[0m\u001b[0m\n",
      "\u001b[0;31mKeyError\u001b[0m: 'memory'",
      "\nDuring handling of the above exception, another exception occurred:\n",
      "\u001b[0;31mQiskitError\u001b[0m                               Traceback (most recent call last)",
      "\u001b[0;32m<ipython-input-21-8ba8fe1923cc>\u001b[0m in \u001b[0;36m<module>\u001b[0;34m\u001b[0m\n\u001b[1;32m      1\u001b[0m \u001b[0;31m# This will give an error because memory was set to `False`, so there is no memory for the experiment\u001b[0m\u001b[0;34m\u001b[0m\u001b[0;34m\u001b[0m\u001b[0;34m\u001b[0m\u001b[0m\n\u001b[1;32m      2\u001b[0m \u001b[0mresult_hp6_4\u001b[0m \u001b[0;34m=\u001b[0m \u001b[0mexecute\u001b[0m\u001b[0;34m(\u001b[0m\u001b[0mqc_hp6\u001b[0m\u001b[0;34m,\u001b[0m \u001b[0mbackend\u001b[0m \u001b[0;34m=\u001b[0m \u001b[0mM_simulator\u001b[0m\u001b[0;34m,\u001b[0m \u001b[0mshots\u001b[0m\u001b[0;34m=\u001b[0m\u001b[0;36m15\u001b[0m\u001b[0;34m,\u001b[0m \u001b[0mmemory\u001b[0m\u001b[0;34m=\u001b[0m\u001b[0;32mFalse\u001b[0m\u001b[0;34m)\u001b[0m\u001b[0;34m.\u001b[0m\u001b[0mresult\u001b[0m\u001b[0;34m(\u001b[0m\u001b[0;34m)\u001b[0m\u001b[0;34m\u001b[0m\u001b[0;34m\u001b[0m\u001b[0m\n\u001b[0;32m----> 3\u001b[0;31m \u001b[0mmemory_hp6_4\u001b[0m \u001b[0;34m=\u001b[0m \u001b[0mresult_hp6_4\u001b[0m\u001b[0;34m.\u001b[0m\u001b[0mget_memory\u001b[0m\u001b[0;34m(\u001b[0m\u001b[0mqc_hp6\u001b[0m\u001b[0;34m)\u001b[0m\u001b[0;34m\u001b[0m\u001b[0;34m\u001b[0m\u001b[0m\n\u001b[0m\u001b[1;32m      4\u001b[0m \u001b[0mprint\u001b[0m\u001b[0;34m(\u001b[0m\u001b[0mmemory_hp6_4\u001b[0m\u001b[0;34m)\u001b[0m\u001b[0;34m\u001b[0m\u001b[0;34m\u001b[0m\u001b[0m\n",
      "\u001b[0;32m~/opt/anaconda3/lib/python3.7/site-packages/qiskit/result/result.py\u001b[0m in \u001b[0;36mget_memory\u001b[0;34m(self, experiment)\u001b[0m\n\u001b[1;32m    156\u001b[0m \u001b[0;34m\u001b[0m\u001b[0m\n\u001b[1;32m    157\u001b[0m         \u001b[0;32mexcept\u001b[0m \u001b[0mKeyError\u001b[0m\u001b[0;34m:\u001b[0m\u001b[0;34m\u001b[0m\u001b[0;34m\u001b[0m\u001b[0m\n\u001b[0;32m--> 158\u001b[0;31m             \u001b[0;32mraise\u001b[0m \u001b[0mQiskitError\u001b[0m\u001b[0;34m(\u001b[0m\u001b[0;34m'No memory for experiment \"{0}\".'\u001b[0m\u001b[0;34m.\u001b[0m\u001b[0mformat\u001b[0m\u001b[0;34m(\u001b[0m\u001b[0mexperiment\u001b[0m\u001b[0;34m)\u001b[0m\u001b[0;34m)\u001b[0m\u001b[0;34m\u001b[0m\u001b[0;34m\u001b[0m\u001b[0m\n\u001b[0m\u001b[1;32m    159\u001b[0m \u001b[0;34m\u001b[0m\u001b[0m\n\u001b[1;32m    160\u001b[0m     \u001b[0;32mdef\u001b[0m \u001b[0mget_counts\u001b[0m\u001b[0;34m(\u001b[0m\u001b[0mself\u001b[0m\u001b[0;34m,\u001b[0m \u001b[0mexperiment\u001b[0m\u001b[0;34m=\u001b[0m\u001b[0;32mNone\u001b[0m\u001b[0;34m)\u001b[0m\u001b[0;34m:\u001b[0m\u001b[0;34m\u001b[0m\u001b[0;34m\u001b[0m\u001b[0m\n",
      "\u001b[0;31mQiskitError\u001b[0m: 'No memory for experiment \"        ┌───┐ ░ ┌─┐   \\n   q_0: ┤ H ├─░─┤M├───\\n        ├───┤ ░ └╥┘┌─┐\\n   q_1: ┤ H ├─░──╫─┤M├\\n        └───┘ ░  ║ └╥┘\\nmeas_0: ═════════╩══╬═\\n                    ║ \\nmeas_1: ════════════╩═\\n                      \".'"
     ]
    }
   ],
   "source": [
    "# This will give an error because memory was set to `False`, so there is no memory for the experiment\n",
    "result_hp6_4 = execute(qc_hp6, backend = M_simulator, shots=15, memory=False).result()\n",
    "memory_hp6_4 = result_hp6_4.get_memory(qc_hp6)\n",
    "print(memory_hp6_4)"
   ]
  },
  {
   "cell_type": "markdown",
   "metadata": {},
   "source": [
    "### Answer to Q5.6:\n",
    "\n",
    "**3)** `execute(qc, QasmSimulator(), shots=15, memory=True)`\n",
    "\n",
    "---\n",
    "## Question 5.7\n",
    "\n",
    "Clifford circuits can be efficiently simulated classically in Qiskit using Clifford class in the quantum_info module.\n",
    "Which of the following is not a Clifford gate?\n",
    "**1)** `XGate`\n",
    "\n",
    "**2)** `SdgGate`\n",
    "\n",
    "**3)** `CXGate`\n",
    "\n",
    "**4)** `RZGate`\n",
    "\n",
    "**5)** None of the above\n",
    "\n",
    "### Solution to Q5.7:\n",
    "\n",
    "From Qiskit's documentation on [Clifford gates](https://qiskit.org/documentation/stubs/qiskit.quantum_info.Clifford.html), we can see which of the ones above is not part of this family.\n",
    "\n",
    "### Answer to Q5.7:\n",
    "\n",
    "**4)** `RzGate`"
   ]
  },
  {
   "cell_type": "code",
   "execution_count": null,
   "metadata": {},
   "outputs": [],
   "source": []
  }
 ],
 "metadata": {
  "kernelspec": {
   "display_name": "Python 3",
   "language": "python",
   "name": "python3"
  },
  "language_info": {
   "codemirror_mode": {
    "name": "ipython",
    "version": 3
   },
   "file_extension": ".py",
   "mimetype": "text/x-python",
   "name": "python",
   "nbconvert_exporter": "python",
   "pygments_lexer": "ipython3",
   "version": "3.7.6"
  }
 },
 "nbformat": 4,
 "nbformat_minor": 4
}
