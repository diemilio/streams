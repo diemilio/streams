{
 "cells": [
  {
   "cell_type": "markdown",
   "metadata": {},
   "source": [
    "# 7. Optimization\n",
    "\n",
    "---\n",
    "## Question 7.1\n",
    "\n",
    "**Which of the following statement is incorrect for this QuadraticProgram?**\n",
    "\n",
    "```\n",
    "mod = QuadraticProgram()\n",
    "mod.binary_var('x')\n",
    "mod.binary_var('y')\n",
    "mod.minimize(constant = 3, linear=[1,-2], quadratic={('x', 'y'): 2})\n",
    "```\n",
    "\n",
    "**1)** It has two variables\n",
    "\n",
    "**2)** The objective is to minimise `x - 2 y + 2 x^2 + 2 y^2 + 3`\n",
    "\n",
    "**3)** It has no constraints\n",
    "\n",
    "**4)** It is a Quadratic Unconstrained Binary Optimization (QUBO) problem\n",
    "\n",
    "**5)** None of the above"
   ]
  },
  {
   "cell_type": "markdown",
   "metadata": {},
   "source": [
    "---\n",
    "## Question 7.2\n",
    "\n",
    "**What kinds of minimum eigen solvers can be used for the MinimumEigenOptimizer?**\n",
    "\n",
    "```\n",
    "problem = QuadraticProgram()\n",
    "# specify problem here\n",
    "# specify minimum eigen solver to be used\n",
    "mes = (*what can be here?*)\n",
    "optimizer = MinimumEigenOptimizer(mes)\n",
    "result = optimizer.solve(problem)\n",
    "```\n",
    "\n",
    "**1)**  `VQE(...)`\n",
    "\n",
    "**2)**  `QAOA(...)`\n",
    "\n",
    "**3)**  `NumpyMinimumEigensolver(...)`\n",
    "\n",
    "**4)**  All of the above\n",
    "\n",
    "**5)**  None of the above"
   ]
  },
  {
   "cell_type": "markdown",
   "metadata": {},
   "source": [
    "---\n",
    "## Question 7.3\n",
    "\n",
    "**Which optimizers in Qiskit can be used to solve Quadratic Unconstrained Binary Optimization (QUBO) problems?**\n",
    "\n",
    "**1)** MinimumEigenOptimizer\n",
    "\n",
    "**2)** GroverOptimizer\n",
    "\n",
    "**3)** CobylaOptimizer\n",
    "\n",
    "**4)** Both 1 & 2\n",
    "\n",
    "**5)** All of the above"
   ]
  }
 ],
 "metadata": {
  "kernelspec": {
   "display_name": "Python 3 (ipykernel)",
   "language": "python",
   "name": "python3"
  },
  "language_info": {
   "codemirror_mode": {
    "name": "ipython",
    "version": 3
   },
   "file_extension": ".py",
   "mimetype": "text/x-python",
   "name": "python",
   "nbconvert_exporter": "python",
   "pygments_lexer": "ipython3",
   "version": "3.8.5"
  }
 },
 "nbformat": 4,
 "nbformat_minor": 4
}
