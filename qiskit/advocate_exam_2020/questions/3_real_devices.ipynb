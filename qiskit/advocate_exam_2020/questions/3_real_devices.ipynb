{
 "cells": [
  {
   "cell_type": "markdown",
   "metadata": {},
   "source": [
    "---\n",
    "# 3. Running on Real Devices\n",
    "\n",
    "## Question 3.1\n",
    "\n",
    "**How do you find the least busy device to run the following circuit from the previous section?**\n",
    "\n",
    "<img src=\"..\\images\\advanced_circuits_images\\merged.png\" align=\"left\" width=\"300\"/>"
   ]
  },
  {
   "cell_type": "markdown",
   "metadata": {},
   "source": [
    "**1)** `least_busy(provider.backends())`\n",
    "\n",
    "**2)** `least_busy(provider.backends(filters=lambda x: x.configuration().n_qubits >= 5))`\n",
    "\n",
    "**3)**  `provider.backends(filters=lambda x: x.configuration().n_qubits >= 5\n",
    "  and not x.configuration().simulator and x.status().operational==True)`\n",
    "\n",
    "**4)** Both 1 & 3 are correct\n",
    "\n",
    "**5)** None of the above"
   ]
  },
  {
   "cell_type": "markdown",
   "metadata": {},
   "source": [
    "**Option 2** does guarantee we will get a device with at least 5 qubits, however, it will still include the `ibmq_qasm_simulator`. Let's take a look:"
   ]
  },
  {
   "cell_type": "markdown",
   "metadata": {},
   "source": [
    "**Option 3** does actually provide the correct list of devices to select from (i.e., more than 5 qubits excluding the `ibmq_qasm_simulator`); however, this option does not have the `least_busy` command, so all it will do is list the backends, not select the one we want:"
   ]
  },
  {
   "cell_type": "markdown",
   "metadata": {},
   "source": [
    "---\n",
    "## Question 3.2\n",
    "\n",
    "**How do you retrieve the last run job from a backend?**\n",
    "\n",
    "**1)** `backend.jobs()[0]`\n",
    "\n",
    "**2)** `backend.jobs()[-1]`\n",
    "\n",
    "**3)** `backend.retrieve_job()[0]`\n",
    "\n",
    "**4)** `backend.retrieve_job()[-1]`\n",
    "\n",
    "**5)** None of the above"
   ]
  }
 ],
 "metadata": {
  "kernelspec": {
   "display_name": "Python 3 (ipykernel)",
   "language": "python",
   "name": "python3"
  },
  "language_info": {
   "codemirror_mode": {
    "name": "ipython",
    "version": 3
   },
   "file_extension": ".py",
   "mimetype": "text/x-python",
   "name": "python",
   "nbconvert_exporter": "python",
   "pygments_lexer": "ipython3",
   "version": "3.8.5"
  }
 },
 "nbformat": 4,
 "nbformat_minor": 4
}
