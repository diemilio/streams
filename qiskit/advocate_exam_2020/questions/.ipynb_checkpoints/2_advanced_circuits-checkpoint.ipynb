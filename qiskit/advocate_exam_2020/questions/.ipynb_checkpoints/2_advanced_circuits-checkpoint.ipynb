{
 "cells": [
  {
   "cell_type": "markdown",
   "metadata": {},
   "source": [
    "---\n",
    "# 2. ADVANCED CIRCUITS\n",
    "\n",
    "## Question 2.1\n",
    "\n",
    "**How do you merge the lhs and rhs circuits to form the final circuit?**\n",
    "\n",
    "<div align= \"left\">\n",
    "    <p style=\"float: left;\"><b> lhs:  </b></p> \n",
    "    <p><img src=\"..\\images\\advanced_circuits_images\\lhs.png\" style=\"float: left;\" width = \"220\"/> </p> \n",
    "    <p style=\"float: left;\"><b> rhs:  </b></p> \n",
    "    <p><img src=\"..\\images\\advanced_circuits_images\\rhs.png\" style=\"float: left;\" width = \"180\"/> </p>\n",
    "    <p style=\"float: left;\"><b> final:  </b></p> \n",
    "    <p><img src=\"..\\images\\advanced_circuits_images\\merged.png\" style=\"float: left;\" width = \"300\"/> </p>\n",
    "</div>"
   ]
  },
  {
   "cell_type": "markdown",
   "metadata": {},
   "source": [
    "**1)** `lhs.append(rhs)`\n",
    "\n",
    "**2)** `lhs.combine(rhs)`\n",
    "\n",
    "**3)** `lhs.compose(rhs)`\n",
    "\n",
    "**4)**  `lhs+rhs`\n",
    "\n",
    "**5)**  None of the above"
   ]
  },
  {
   "cell_type": "markdown",
   "metadata": {},
   "source": [
    "---\n",
    "## Question 2.2\n",
    "\n",
    "**What's the depth of `QuantumVolume(num_qubits=5, depth=5)` circuit after decomposition into basis gates `[u3,cx]`?**\n",
    "\n",
    "**1)** 5\n",
    "\n",
    "**2)** 10\n",
    "\n",
    "**3)** 25\n",
    "\n",
    "**4)** 35\n",
    "\n",
    "**5)** None of the above"
   ]
  },
  {
   "cell_type": "markdown",
   "metadata": {},
   "source": [
    "---\n",
    "## Question 2.3\n",
    "\n",
    "**Which of the following gates/circuits are not currently available in the Qiskit circuit library?**\n",
    "\n",
    "**1)** `HGate`\n",
    "\n",
    "**2)** `NAND`\n",
    "\n",
    "**3)** `QFT`\n",
    "\n",
    "**4)** `QuantumVolume`\n",
    "\n",
    "**5)** None of the above"
   ]
  },
  {
   "cell_type": "markdown",
   "metadata": {},
   "source": [
    "---\n",
    "## Question 2.4\n",
    "\n",
    "**Which one of the following Operators is different from the rest?**\n",
    "\n",
    "**1)** `Operator(Pauli(label='XZ'))`\n",
    "\n",
    "**2)** `Operator(Pauli(label='X')).tensor(Operator(Pauli(label='Z')))`\n",
    "\n",
    "**3)**  `qc = QuantumCircuit(2)\n",
    "  qc.x(0)\n",
    "  qc.z(1)\n",
    "  Operator(qc)`\n",
    "\n",
    "**4)**  `Operator([[0, 0, 1, 0], [0, 0, 0, -1], [1, 0, 0, 0], [0, -1, 0, 0]])`\n",
    "\n",
    "**5)** None of the above"
   ]
  },
  {
   "cell_type": "markdown",
   "metadata": {},
   "source": [
    "## Question 2.5\n",
    "\n",
    "**How many gates are in the quantum circuit that results from transpiling the following quantum circuit using only the pass LookaheadSwap? Assume the following coupling map: [[0, 1], [1, 2], [2, 3], [3, 4]]**\n",
    "\n",
    "<img src=\"..\\images\\advanced_circuits_images\\tpl_circuit.png\" style=\"float: left;\"/> </p> "
   ]
  }
 ],
 "metadata": {
  "@webio": {
   "lastCommId": null,
   "lastKernelId": null
  },
  "kernelspec": {
   "display_name": "Python 3 (ipykernel)",
   "language": "python",
   "name": "python3"
  },
  "language_info": {
   "codemirror_mode": {
    "name": "ipython",
    "version": 3
   },
   "file_extension": ".py",
   "mimetype": "text/x-python",
   "name": "python",
   "nbconvert_exporter": "python",
   "pygments_lexer": "ipython3",
   "version": "3.8.5"
  }
 },
 "nbformat": 4,
 "nbformat_minor": 4
}
