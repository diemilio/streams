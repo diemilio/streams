{
 "cells": [
  {
   "cell_type": "markdown",
   "metadata": {},
   "source": [
    "---\n",
    "# 1. CIRCUITS\n",
    "\n",
    "## Question 1.1\n",
    "\n",
    "**What is the output of the following circuit given initial state of $| 0 \\rangle$ ?**\n",
    "\n",
    "<img src=\"..\\images\\circuits_images\\hx0.png\" align = \"left\" width=\"200\"/>"
   ]
  },
  {
   "cell_type": "markdown",
   "metadata": {},
   "source": [
    "**1)** $| 0 \\rangle$\n",
    "\n",
    "**2)** $\\frac{| 0 \\rangle + | 1 \\rangle}{\\sqrt{2}}$\n",
    "\n",
    "**3)** $\\frac{| 0 \\rangle - | 1 \\rangle}{\\sqrt{2}}$\n",
    "\n",
    "**4)** Both 2 & 3 are possible\n",
    "\n",
    "**5)** None of the above"
   ]
  },
  {
   "cell_type": "markdown",
   "metadata": {},
   "source": [
    "---\n",
    "## Question 1.2\n",
    "\n",
    "**What is the result of the measurements in the following circuit assuming error-free quantum computation?**\n",
    "\n",
    "<img src=\"..\\images\\circuits_images\\bell.png\" align=\"left\" width=\"400\"/>"
   ]
  },
  {
   "cell_type": "markdown",
   "metadata": {},
   "source": [
    "**1)** 50% 0 and 50% 1\n",
    "\n",
    "**2)** 50% 00 and 50% 11\n",
    "\n",
    "**3)** 100% 1\n",
    "\n",
    "**4)** Both 1 & 2 are possible\n",
    "\n",
    "**5)** None of the above"
   ]
  },
  {
   "cell_type": "markdown",
   "metadata": {},
   "source": [
    "---\n",
    "## Question 1.3\n",
    "\n",
    "**Consider the three-qubit quantum circuit below. What are the real and imaginary components of the state vector?**\n",
    "\n",
    "<img src=\"..\\images\\circuits_images\\q1.png\" align=\"left\" width=\"300\"/>"
   ]
  },
  {
   "cell_type": "markdown",
   "metadata": {},
   "source": [
    "**1)** <img src=\"..\\images\\circuits_images\\q1_a1.png\" width = \"800\"/>\n",
    "\n",
    "**2)** <img src=\"..\\images\\circuits_images\\q1_a2.png\" width = \"800\"/>\n",
    "\n",
    "**3)** <img src=\"..\\images\\circuits_images\\q1_a3.png\" width = \"800\"/>\n",
    "\n",
    "**4)** <img src=\"..\\images\\circuits_images\\q1_a4.png\" width = \"800\"/>\n",
    "\n",
    "**5)** None of the above\n"
   ]
  },
  {
   "cell_type": "markdown",
   "metadata": {},
   "source": [
    "---\n",
    "## Question 1.4\n",
    "\n",
    "Which of the following state visualization represent the same quantum state as shown in this qsphere?\n",
    "\n",
    "<img src=\"..\\images\\circuits_images\\qsphere.png\" align=\"left\" width=\"350\"/>"
   ]
  },
  {
   "cell_type": "markdown",
   "metadata": {},
   "source": [
    "**1)** <img src=\"..\\images\\circuits_images\\statecity.png\"/>\n",
    "\n",
    "**2)** <img src=\"..\\images\\circuits_images\\hinton.png\"/>\n",
    "\n",
    "**3)** <img src=\"..\\images\\circuits_images\\paulivec.png\"/>\n",
    "\n",
    "**4)** <img src=\"..\\images\\circuits_images\\bloch_sphere.png\"/>\n",
    "\n",
    "**5)** None of the above"
   ]
  },
  {
   "cell_type": "markdown",
   "metadata": {},
   "source": [
    "---\n",
    "## Question 1.5\n",
    "\n",
    "Which one of the following gates is different from the rest?\n",
    "\n",
    "**1)** U1Gate(pi)\n",
    "\n",
    "**2)** U2Gate(0, pi)\n",
    "\n",
    "**3)** U3Gate(pi/2, 0, pi)\n",
    "\n",
    "**4)** HGate()\n",
    "\n",
    "**5)** None of the above"
   ]
  },
  {
   "cell_type": "code",
   "execution_count": 17,
   "metadata": {},
   "outputs": [
    {
     "data": {
      "text/plain": [
       "{'qiskit-terra': '0.14.2',\n",
       " 'qiskit-aer': '0.5.2',\n",
       " 'qiskit-ignis': '0.3.3',\n",
       " 'qiskit-ibmq-provider': '0.7.2',\n",
       " 'qiskit-aqua': '0.7.3',\n",
       " 'qiskit': '0.19.6'}"
      ]
     },
     "execution_count": 17,
     "metadata": {},
     "output_type": "execute_result"
    }
   ],
   "source": [
    "import qiskit\n",
    "qiskit.__qiskit_version__"
   ]
  }
 ],
 "metadata": {
  "@webio": {
   "lastCommId": null,
   "lastKernelId": null
  },
  "kernelspec": {
   "display_name": "Python 3 (ipykernel)",
   "language": "python",
   "name": "python3"
  },
  "language_info": {
   "codemirror_mode": {
    "name": "ipython",
    "version": 3
   },
   "file_extension": ".py",
   "mimetype": "text/x-python",
   "name": "python",
   "nbconvert_exporter": "python",
   "pygments_lexer": "ipython3",
   "version": "3.8.5"
  }
 },
 "nbformat": 4,
 "nbformat_minor": 4
}
