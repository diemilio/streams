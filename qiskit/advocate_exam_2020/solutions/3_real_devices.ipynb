{
 "cells": [
  {
   "cell_type": "markdown",
   "metadata": {},
   "source": [
    "---\n",
    "# 3. Running on Real Devices\n",
    "\n",
    "## Question 3.1\n",
    "\n",
    "**How do you find the least busy device to run the following circuit from the previous section?**\n",
    "\n",
    "<img src=\"..\\images\\advanced_circuits_images\\merged.png\" align=\"left\" width=\"300\"/>"
   ]
  },
  {
   "cell_type": "markdown",
   "metadata": {},
   "source": [
    "**1)** `least_busy(provider.backends())`\n",
    "\n",
    "**2)** `least_busy(provider.backends(filters=lambda x: x.configuration().n_qubits >= 5))`\n",
    "\n",
    "**3)**  `provider.backends(filters=lambda x: x.configuration().n_qubits >= 5\n",
    "  and not x.configuration().simulator and x.status().operational==True)`\n",
    "\n",
    "**4)** Both 1 & 3 are correct\n",
    "\n",
    "**5)** None of the above"
   ]
  },
  {
   "cell_type": "code",
   "execution_count": 2,
   "metadata": {},
   "outputs": [
    {
     "name": "stderr",
     "output_type": "stream",
     "text": [
      "ibmqfactory.load_account:WARNING:2022-06-17 08:36:24,057: Credentials are already in use. The existing account in the session will be replaced.\n"
     ]
    }
   ],
   "source": [
    "from qiskit import IBMQ\n",
    "provider = IBMQ.load_account()\n",
    "from qiskit.providers.ibmq import least_busy"
   ]
  },
  {
   "cell_type": "code",
   "execution_count": 3,
   "metadata": {},
   "outputs": [
    {
     "name": "stdout",
     "output_type": "stream",
     "text": [
      "name: ibmq_qasm_simulator, number of qubits: 32\n",
      "name: ibmq_armonk, number of qubits: 1\n",
      "name: ibmq_santiago, number of qubits: 5\n",
      "name: ibmq_bogota, number of qubits: 5\n",
      "name: ibmq_lima, number of qubits: 5\n",
      "name: ibmq_belem, number of qubits: 5\n",
      "name: ibmq_quito, number of qubits: 5\n",
      "name: simulator_statevector, number of qubits: 32\n",
      "name: simulator_mps, number of qubits: 100\n",
      "name: simulator_extended_stabilizer, number of qubits: 63\n",
      "name: simulator_stabilizer, number of qubits: 5000\n",
      "name: ibmq_manila, number of qubits: 5\n",
      "name: ibm_oslo, number of qubits: 7\n"
     ]
    }
   ],
   "source": [
    "for backend in provider.backends():\n",
    "    print(f'name: {backend}, number of qubits: {backend.configuration().n_qubits}')"
   ]
  },
  {
   "cell_type": "code",
   "execution_count": 3,
   "metadata": {},
   "outputs": [
    {
     "data": {
      "text/plain": [
       "[<IBMQSimulator('ibmq_qasm_simulator') from IBMQ(hub='ibm-q', group='open', project='main')>,\n",
       " <IBMQBackend('ibmq_santiago') from IBMQ(hub='ibm-q', group='open', project='main')>,\n",
       " <IBMQBackend('ibmq_bogota') from IBMQ(hub='ibm-q', group='open', project='main')>,\n",
       " <IBMQBackend('ibmq_lima') from IBMQ(hub='ibm-q', group='open', project='main')>,\n",
       " <IBMQBackend('ibmq_belem') from IBMQ(hub='ibm-q', group='open', project='main')>,\n",
       " <IBMQBackend('ibmq_quito') from IBMQ(hub='ibm-q', group='open', project='main')>,\n",
       " <IBMQSimulator('simulator_statevector') from IBMQ(hub='ibm-q', group='open', project='main')>,\n",
       " <IBMQSimulator('simulator_mps') from IBMQ(hub='ibm-q', group='open', project='main')>,\n",
       " <IBMQSimulator('simulator_extended_stabilizer') from IBMQ(hub='ibm-q', group='open', project='main')>,\n",
       " <IBMQSimulator('simulator_stabilizer') from IBMQ(hub='ibm-q', group='open', project='main')>,\n",
       " <IBMQBackend('ibmq_manila') from IBMQ(hub='ibm-q', group='open', project='main')>,\n",
       " <IBMQBackend('ibm_oslo') from IBMQ(hub='ibm-q', group='open', project='main')>]"
      ]
     },
     "execution_count": 3,
     "metadata": {},
     "output_type": "execute_result"
    }
   ],
   "source": [
    "provider.backends(filters=lambda x: x.configuration().n_qubits >= 5)"
   ]
  },
  {
   "cell_type": "code",
   "execution_count": 5,
   "metadata": {},
   "outputs": [
    {
     "name": "stdout",
     "output_type": "stream",
     "text": [
      "name: ibmq_santiago, number of qubits: 5\n",
      "name: ibmq_bogota, number of qubits: 5\n",
      "name: ibmq_lima, number of qubits: 5\n",
      "name: ibmq_belem, number of qubits: 5\n",
      "name: ibmq_quito, number of qubits: 5\n",
      "name: ibmq_manila, number of qubits: 5\n",
      "name: ibm_oslo, number of qubits: 7\n"
     ]
    }
   ],
   "source": [
    "# List of quantum backends with more than 5 qubits, and that are current operational\n",
    "backend_list = provider.backends(filters=lambda x: x.configuration().n_qubits >= 5\n",
    "  and not x.configuration().simulator and x.status().operational==True)\n",
    "\n",
    "for backend in backend_list:\n",
    "    print(f'name: {backend}, number of qubits: {backend.configuration().n_qubits}')"
   ]
  },
  {
   "cell_type": "markdown",
   "metadata": {},
   "source": [
    "---\n",
    "## Question 3.2\n",
    "\n",
    "**How do you retrieve the last run job from a backend?**\n",
    "\n",
    "**1)** `backend.jobs()[0]`\n",
    "\n",
    "**2)** `backend.jobs()[-1]`\n",
    "\n",
    "**3)** `backend.retrieve_job()[0]`\n",
    "\n",
    "**4)** `backend.retrieve_job()[-1]`\n",
    "\n",
    "**5)** None of the above"
   ]
  },
  {
   "cell_type": "code",
   "execution_count": 6,
   "metadata": {},
   "outputs": [],
   "source": [
    "from qiskit import QuantumCircuit"
   ]
  },
  {
   "cell_type": "code",
   "execution_count": 7,
   "metadata": {},
   "outputs": [
    {
     "data": {
      "image/png": "[encoded data removed]",
      "text/plain": [
       "<Figure size 193.726x144.48 with 1 Axes>"
      ]
     },
     "execution_count": 7,
     "metadata": {},
     "output_type": "execute_result"
    }
   ],
   "source": [
    "qc = QuantumCircuit(1,1)\n",
    "qc.h(0)\n",
    "qc.measure(0,0)\n",
    "qc.draw()"
   ]
  },
  {
   "cell_type": "code",
   "execution_count": 8,
   "metadata": {},
   "outputs": [],
   "source": [
    "from qiskit.tools.monitor import job_monitor"
   ]
  },
  {
   "cell_type": "code",
   "execution_count": 9,
   "metadata": {},
   "outputs": [
    {
     "name": "stdout",
     "output_type": "stream",
     "text": [
      "ibm_oslo\n"
     ]
    }
   ],
   "source": [
    "backend = least_busy(backend_list)\n",
    "print(backend)"
   ]
  },
  {
   "cell_type": "code",
   "execution_count": 10,
   "metadata": {},
   "outputs": [],
   "source": [
    "from qiskit import execute"
   ]
  },
  {
   "cell_type": "code",
   "execution_count": null,
   "metadata": {},
   "outputs": [
    {
     "name": "stdout",
     "output_type": "stream",
     "text": [
      "Job Status: job is queued (2)     "
     ]
    }
   ],
   "source": [
    "job = execute(qc, backend=backend)\n",
    "job_monitor(job)"
   ]
  },
  {
   "cell_type": "code",
   "execution_count": null,
   "metadata": {},
   "outputs": [],
   "source": [
    "from qiskit.tools.visualization import plot_histogram"
   ]
  },
  {
   "cell_type": "code",
   "execution_count": null,
   "metadata": {},
   "outputs": [],
   "source": [
    "plot_histogram(job.result().get_counts(qc))"
   ]
  },
  {
   "cell_type": "code",
   "execution_count": null,
   "metadata": {},
   "outputs": [],
   "source": [
    "job2 = backend.jobs()[0]\n",
    "plot_histogram(job2.result().get_counts(qc))"
   ]
  }
 ],
 "metadata": {
  "@webio": {
   "lastCommId": null,
   "lastKernelId": null
  },
  "kernelspec": {
   "display_name": "Python 3 (ipykernel)",
   "language": "python",
   "name": "python3"
  },
  "language_info": {
   "codemirror_mode": {
    "name": "ipython",
    "version": 3
   },
   "file_extension": ".py",
   "mimetype": "text/x-python",
   "name": "python",
   "nbconvert_exporter": "python",
   "pygments_lexer": "ipython3",
   "version": "3.8.5"
  }
 },
 "nbformat": 4,
 "nbformat_minor": 4
}
