{
 "cells": [
  {
   "cell_type": "code",
   "execution_count": 1,
   "id": "a72f3f5d",
   "metadata": {},
   "outputs": [],
   "source": [
    "import numpy as np\n",
    "from matplotlib import pyplot as plt\n",
    "from IPython.display import display\n",
    "from ipywidgets import interactive_output, HBox, VBox, Layout, FloatSlider, Label, HTMLMath\n",
    "\n",
    "from qiskit import QuantumCircuit\n",
    "from qiskit.circuit import Parameter\n",
    "from qiskit.quantum_info import Statevector, DensityMatrix, partial_trace\n",
    "from qiskit.visualization import array_to_latex, plot_bloch_vector\n",
    "from qiskit.visualization.state_visualization import _bloch_multivector_data\n",
    "from time import sleep"
   ]
  },
  {
   "cell_type": "code",
   "execution_count": 2,
   "id": "ae471ccb",
   "metadata": {},
   "outputs": [],
   "source": [
    "theta = Parameter('θ')\n",
    "qc = QuantumCircuit(2)\n",
    "qc.h(1)\n",
    "qc.cry(theta,1,0);"
   ]
  },
  {
   "cell_type": "code",
   "execution_count": 3,
   "id": "49f7d755",
   "metadata": {},
   "outputs": [],
   "source": [
    "def disp_cir(θ):\n",
    "    qc_disp = qc.assign_parameters({theta:θ})\n",
    "    display(qc_disp.draw(reverse_bits=True))"
   ]
  },
  {
   "cell_type": "code",
   "execution_count": 4,
   "id": "b9381e74",
   "metadata": {},
   "outputs": [],
   "source": [
    "def plot_bloch(θ):\n",
    "\n",
    "    qc_f = qc.assign_parameters({theta:θ})\n",
    "    sv = Statevector(qc_f)\n",
    "    bloch_data = _bloch_multivector_data(sv)\n",
    "\n",
    "    width, height = plt.figaspect(1)\n",
    "    figsize = (width, height)\n",
    "    fig = plt.figure(figsize=figsize)\n",
    "    ax = fig.add_subplot(1, 1, 1, projection='3d')\n",
    "\n",
    "    plot_bloch_vector(bloch_data, ax=ax, figsize=figsize)"
   ]
  },
  {
   "cell_type": "code",
   "execution_count": 5,
   "id": "59488052",
   "metadata": {},
   "outputs": [],
   "source": [
    "def state_vector(θ):\n",
    "    qc_s = qc.assign_parameters({theta:θ})\n",
    "    sv_s = Statevector(qc_s)\n",
    "    \n",
    "    sv_lac = sv_s.draw('latex_source',prefix='|\\\\psi \\\\rangle = ',decimals=4)\n",
    "    sv_html = HTMLMath(value = r'\\(\\color{black} {' + str(sv_lac)  + '}\\)')\n",
    "    display(sv_html)\n",
    "    sleep(0.1) #Slows down the rendering so the display isn't so glitchy"
   ]
  },
  {
   "cell_type": "code",
   "execution_count": 6,
   "id": "9125f312",
   "metadata": {},
   "outputs": [],
   "source": [
    "def density_matrix(θ):\n",
    "    qc_m = qc.assign_parameters({theta:θ})\n",
    "    dm1 = partial_trace(DensityMatrix(qc_m),[0])\n",
    "    dm_lac1 = array_to_latex(dm1,\n",
    "                            precision=4,\n",
    "                            source=True,\n",
    "                            prefix='\\\\rho_A = ')\n",
    "\n",
    "    dm2 = partial_trace(DensityMatrix(qc_m),[1])\n",
    "    dm_lac2 = array_to_latex(dm2,\n",
    "                            precision=4,\n",
    "                            source=True,\n",
    "                            prefix='\\\\rho_B = ')\n",
    "    \n",
    "    dm_html = HTMLMath(value = r'\\(\\color{#8296eb} {' + str(dm_lac1[0:len(dm_lac1)-0])  + '}\\  \\ \\ \\ \\ \\color{#c84d86} {' + str(dm_lac2[0:len(dm_lac2)-0])  + '}\\)')\n",
    "    display(dm_html)\n",
    "    sleep(0.05) #Slows down the rendering so the display isn't so glitchy"
   ]
  },
  {
   "cell_type": "code",
   "execution_count": 7,
   "id": "f705dc67",
   "metadata": {},
   "outputs": [
    {
     "data": {
      "application/vnd.jupyter.widget-view+json": {
       "model_id": "5451f445d94e43238c9f547bacc6ac63",
       "version_major": 2,
       "version_minor": 0
      },
      "text/plain": [
       "HBox(children=(VBox(children=(HTMLMath(value='\\\\(\\\\color{#8296eb} {\\\\rho_A} \\\\ \\\\ \\\\ \\\\ \\\\color{#c84d86} {\\\\rh…"
      ]
     },
     "execution_count": 7,
     "metadata": {},
     "output_type": "execute_result"
    }
   ],
   "source": [
    "θ_slide = FloatSlider(description=\"θ:\",value=0.0,min=0.0,max=np.pi,step=np.pi/10)\n",
    "plot_label = HTMLMath(value = r'\\(\\color{#8296eb} {\\rho_A} \\ \\ \\ \\ \\color{#c84d86} {\\rho_B} \\)')\n",
    "cir_out = interactive_output(disp_cir,{'θ': θ_slide})\n",
    "state_out = interactive_output(state_vector,{'θ': θ_slide})\n",
    "den_out = interactive_output(density_matrix,{'θ': θ_slide})\n",
    "bloch_out = interactive_output(plot_bloch,{'θ': θ_slide})\n",
    "bloch_ball = HBox([VBox([plot_label,bloch_out],layout=Layout(align_items='center')),\n",
    "                   VBox([θ_slide,cir_out,state_out,den_out],layout=Layout(width='500px'))])\n",
    "bloch_ball"
   ]
  },
  {
   "cell_type": "code",
   "execution_count": null,
   "id": "5efb1e22",
   "metadata": {},
   "outputs": [],
   "source": []
  }
 ],
 "metadata": {
  "@webio": {
   "lastCommId": null,
   "lastKernelId": null
  },
  "kernelspec": {
   "display_name": "Python 3 (ipykernel)",
   "language": "python",
   "name": "python3"
  },
  "language_info": {
   "codemirror_mode": {
    "name": "ipython",
    "version": 3
   },
   "file_extension": ".py",
   "mimetype": "text/x-python",
   "name": "python",
   "nbconvert_exporter": "python",
   "pygments_lexer": "ipython3",
   "version": "3.11.9"
  }
 },
 "nbformat": 4,
 "nbformat_minor": 5
}
