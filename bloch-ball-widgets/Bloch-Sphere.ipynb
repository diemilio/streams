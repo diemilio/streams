{
 "cells": [
  {
   "cell_type": "code",
   "execution_count": 1,
   "id": "0c9dcabc",
   "metadata": {},
   "outputs": [],
   "source": [
    "import numpy as np\n",
    "from matplotlib import cm, pyplot as plt\n",
    "from IPython.display import display\n",
    "from ipywidgets import interactive, interactive_output, HBox, VBox, Layout, FloatSlider, Label, HTMLMath, Layout, Text\n",
    "\n",
    "from qiskit.quantum_info import Statevector\n",
    "from qiskit.visualization.bloch import Bloch\n",
    "from qiskit.visualization.state_visualization import _bloch_multivector_data\n",
    "from time import sleep"
   ]
  },
  {
   "cell_type": "code",
   "execution_count": 2,
   "id": "9bb6c709",
   "metadata": {},
   "outputs": [],
   "source": [
    "def state_vector(θ,φ,γ):\n",
    "    alpha = np.cos(θ/2)\n",
    "    beta = np.exp(1j*φ)*np.sin(θ/2)\n",
    "    glob = np.exp(1j*γ)\n",
    "    sv_lac = Statevector(glob*np.array([alpha,beta])).draw('latex_source',prefix='|\\\\psi \\\\rangle = ',decimals=4)\n",
    "    sv_html = HTMLMath(value = r'\\(\\color{black} {' + str(sv_lac)  + '}\\)')\n",
    "    display(sv_html)\n",
    "    sleep(0.1) #Slows down the rendering so the display isn't so glitchy"
   ]
  },
  {
   "cell_type": "code",
   "execution_count": 3,
   "id": "963440bb",
   "metadata": {},
   "outputs": [],
   "source": [
    "def plot_bloch(θ,φ,γ):\n",
    "    \n",
    "    alpha = np.cos(θ/2)\n",
    "    beta = np.exp(1j*φ)*np.sin(θ/2)\n",
    "    sv = Statevector([alpha,beta])\n",
    "    bloch_data = _bloch_multivector_data(sv)\n",
    "    \n",
    "    _bloch = Bloch()\n",
    "    c_ind = 20*int(γ/(2*np.pi)*10)\n",
    "    c_rgb = cm.gist_rainbow(c_ind)\n",
    "    _bloch.vector_color = [c_rgb]\n",
    "\n",
    "    _bloch.add_vectors(bloch_data)\n",
    "    _bloch.render()\n",
    "    _bloch.fig"
   ]
  },
  {
   "cell_type": "code",
   "execution_count": 4,
   "id": "95bbd1b1",
   "metadata": {},
   "outputs": [],
   "source": [
    "θ_slide = FloatSlider(description=\"θ:\", value=0.0,min=0.0,max=np.pi,step=np.pi/10)\n",
    "φ_slide = FloatSlider(description=\"φ:\", value=0.0,min=0.0,max=2*np.pi,step=np.pi/10)\n",
    "γ_slide = FloatSlider(description=\"γ:\", value=0.0,min=0.0,max=2*np.pi+np.pi/10,step=np.pi/10)\n",
    "\n",
    "figure_out = interactive_output(plot_bloch,{'θ': θ_slide, 'φ': φ_slide, 'γ': γ_slide})\n",
    "label_out = interactive_output(state_vector,{'θ': θ_slide, 'φ': φ_slide, 'γ': γ_slide})\n",
    "\n",
    "controls = VBox([θ_slide, φ_slide, γ_slide])\n",
    "ctrl_n_label = VBox([controls,label_out])\n",
    "eq_label = HTMLMath(value = r'\\(\\color{black} {| \\psi \\rangle = e^{\\imath \\gamma} \\left[ \\cos \\left( \\frac{\\theta}{2} \\right) | 0 \\rangle + \\sin \\left( \\frac{\\theta}{2} \\right) e^{\\imath \\varphi} | 1 \\rangle \\right]}\\)')\n",
    "\n",
    "bloch_sphere = HBox([VBox([eq_label,figure_out],layout=Layout(align_items='center')),\n",
    "                     ctrl_n_label])"
   ]
  },
  {
   "cell_type": "code",
   "execution_count": 5,
   "id": "db844cda",
   "metadata": {},
   "outputs": [
    {
     "data": {
      "application/vnd.jupyter.widget-view+json": {
       "model_id": "e151c02a66aa42e591b59d1d75d3f5da",
       "version_major": 2,
       "version_minor": 0
      },
      "text/plain": [
       "HBox(children=(VBox(children=(HTMLMath(value='\\\\(\\\\color{black} {| \\\\psi \\\\rangle = e^{\\\\imath \\\\gamma} \\\\left…"
      ]
     },
     "execution_count": 5,
     "metadata": {},
     "output_type": "execute_result"
    }
   ],
   "source": [
    "bloch_sphere"
   ]
  },
  {
   "cell_type": "code",
   "execution_count": null,
   "id": "eb321065",
   "metadata": {},
   "outputs": [],
   "source": []
  },
  {
   "cell_type": "code",
   "execution_count": null,
   "id": "95a2a080",
   "metadata": {},
   "outputs": [],
   "source": []
  }
 ],
 "metadata": {
  "@webio": {
   "lastCommId": null,
   "lastKernelId": null
  },
  "kernelspec": {
   "display_name": "Python 3 (ipykernel)",
   "language": "python",
   "name": "python3"
  },
  "language_info": {
   "codemirror_mode": {
    "name": "ipython",
    "version": 3
   },
   "file_extension": ".py",
   "mimetype": "text/x-python",
   "name": "python",
   "nbconvert_exporter": "python",
   "pygments_lexer": "ipython3",
   "version": "3.11.9"
  }
 },
 "nbformat": 4,
 "nbformat_minor": 5
}
