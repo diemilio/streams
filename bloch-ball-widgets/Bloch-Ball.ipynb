{
 "cells": [
  {
   "cell_type": "code",
   "execution_count": 1,
   "id": "66a18488",
   "metadata": {},
   "outputs": [],
   "source": [
    "import numpy as np\n",
    "from matplotlib import cm, pyplot as plt\n",
    "from IPython.display import display\n",
    "from ipywidgets import interactive, interactive_output, HBox, VBox, Layout, FloatSlider, Label, HTMLMath, Layout\n",
    "\n",
    "from qiskit.quantum_info import DensityMatrix\n",
    "from qiskit.visualization import array_to_latex\n",
    "from qiskit.visualization.bloch import Bloch\n",
    "from qiskit.visualization.utils import _bloch_multivector_data\n",
    "from time import sleep\n",
    "from utils import print_statevector"
   ]
  },
  {
   "cell_type": "code",
   "execution_count": 2,
   "id": "ec412398",
   "metadata": {},
   "outputs": [],
   "source": [
    "def density_matrix(x,y,z):\n",
    "    ρ00 = 1+z\n",
    "    ρ01 = x-1j*y\n",
    "    ρ10 = x+1j*y\n",
    "    ρ11 = 1-z\n",
    "    dm_lac = array_to_latex(1/2*DensityMatrix([[ρ00,ρ01],[ρ10,ρ11]]),\n",
    "                               precision=4,\n",
    "                               source=True,\n",
    "                               prefix='\\\\rho = ')\n",
    "    dm_html = HTMLMath(value = r'\\(\\color{black} {' + str(dm_lac[0:len(dm_lac)-0])  + '}\\)')\n",
    "    display(dm_html)\n",
    "    sleep(0.1) #Slows down the rendering so the display isn't so glitchy"
   ]
  },
  {
   "cell_type": "code",
   "execution_count": 3,
   "id": "af0df8b5",
   "metadata": {},
   "outputs": [],
   "source": [
    "def plot_bloch(x,y,z):\n",
    "    \n",
    "    _bloch = Bloch()\n",
    "    _bloch.add_vectors([x,y,z])\n",
    "    _bloch.render()\n",
    "    _bloch.fig"
   ]
  },
  {
   "cell_type": "code",
   "execution_count": 4,
   "id": "a040e671",
   "metadata": {},
   "outputs": [],
   "source": [
    "x_slide = FloatSlider(description=\"x:\", value=1.0,min=-1.0,max=1.0,step=1.0/10)\n",
    "y_slide = FloatSlider(description=\"y:\", value=0.0,min=-1.0,max=1.0,step=1.0/10)\n",
    "z_slide = FloatSlider(description=\"z:\", value=0.0,min=-1.0,max=1.0,step=1.0/10)\n",
    "\n",
    "\n",
    "figure_out = interactive_output(plot_bloch,{'x': x_slide, 'y': y_slide, 'z': z_slide})\n",
    "label_out = interactive_output(density_matrix,{'x': x_slide, 'y': y_slide, 'z': z_slide})\n",
    "controls = VBox([x_slide, y_slide, z_slide])\n",
    "eq_label = HTMLMath(value = r'\\(\\color{black} {\\rho = \\frac{1}{2}\\begin{bmatrix} 1+z & x-\\imath y \\\\x+\\imath y & 1-z \\end{bmatrix}}\\)')\n",
    "ctrl_n_label = VBox([controls,label_out])\n",
    "bloch_ball = HBox([VBox([eq_label,figure_out],layout=Layout(align_items='center')),\n",
    "                     ctrl_n_label])"
   ]
  },
  {
   "cell_type": "code",
   "execution_count": 5,
   "id": "24f13f30",
   "metadata": {},
   "outputs": [
    {
     "data": {
      "application/vnd.jupyter.widget-view+json": {
       "model_id": "0b7e52ef8e6a4fda8c12e5a8e7909b0b",
       "version_major": 2,
       "version_minor": 0
      },
      "text/plain": [
       "HBox(children=(VBox(children=(HTMLMath(value='\\\\(\\\\color{black} {\\\\rho = \\\\frac{1}{2}\\\\begin{bmatrix} 1+z & x-…"
      ]
     },
     "metadata": {},
     "output_type": "display_data"
    }
   ],
   "source": [
    "bloch_ball"
   ]
  },
  {
   "cell_type": "code",
   "execution_count": null,
   "id": "192af73c",
   "metadata": {},
   "outputs": [],
   "source": []
  }
 ],
 "metadata": {
  "@webio": {
   "lastCommId": null,
   "lastKernelId": null
  },
  "kernelspec": {
   "display_name": "Python 3 (ipykernel)",
   "language": "python",
   "name": "python3"
  },
  "language_info": {
   "codemirror_mode": {
    "name": "ipython",
    "version": 3
   },
   "file_extension": ".py",
   "mimetype": "text/x-python",
   "name": "python",
   "nbconvert_exporter": "python",
   "pygments_lexer": "ipython3",
   "version": "3.9.12"
  }
 },
 "nbformat": 4,
 "nbformat_minor": 5
}
